{
 "cells": [
  {
   "cell_type": "code",
   "execution_count": 1,
   "metadata": {},
   "outputs": [],
   "source": [
    "import numpy as np\n",
    "import pandas as pd\n",
    "from tqdm import tqdm\n",
    "from sklearn.model_selection import GridSearchCV"
   ]
  },
  {
   "cell_type": "code",
   "execution_count": 2,
   "metadata": {},
   "outputs": [],
   "source": [
    "columns_drop = ['artist_id', 'artist_mbid',\n",
    "       'artist_playmeid', 'artist_7digitalid',\n",
    "       'release_7digitalid', 'song_id', 'title',\n",
    "       'track_7digitalid', 'similar_artists', 'artist_terms',\n",
    "       'artist_terms_freq', 'artist_terms_weight', 'analysis_sample_rate',\n",
    "       'audio_md5', 'segments_start',\n",
    "       'segments_confidence', 'segments_pitches', 'segments_timbre',\n",
    "       'segments_loudness_max', 'segments_loudness_max_time',\n",
    "       'segments_loudness_start', 'sections_start', 'sections_confidence',\n",
    "       'beats_start', 'beats_confidence', 'bars_start', 'bars_confidence',\n",
    "       'tatums_start', 'tatums_confidence', 'artist_mbtags',\n",
    "       'artist_mbtags_count', 'analysis_url',\n",
    "        'id', 'track_href', 'type', 'uri']\n",
    "\n",
    "columns_desired = ['artist_familiarity', 'artist_hotttnesss', 'artist_playmeid', 'artist_7digitalid', 'artist_latitude',\n",
    "       'artist_longitude', 'artist_location', 'artist_name', 'release', 'song_hotttnesss',\n",
    "     'danceability', 'duration', 'end_of_fade_in', 'energy',\n",
    "       'key', 'key_confidence', 'loudness', 'mode', 'mode_confidence',\n",
    "       'start_of_fade_out', 'tempo', 'time_signature',\n",
    "       'time_signature_confidence', 'year', 'acousticness', \n",
    "       'danceability.1', 'duration_ms', 'energy.1', 'instrumentalness',\n",
    "       'key.1', 'liveness', 'loudness.1', 'mode.1', 'speechiness', 'tempo.1',\n",
    "       'time_signature.1', 'valence']\n",
    "\n",
    "numeric_columns = ['artist_familiarity', 'artist_hotttnesss', 'artist_playmeid', 'artist_7digitalid','artist_latitude', 'artist_longitude', \n",
    "        'song_hotttnesss', 'danceability', 'duration', 'end_of_fade_in', 'energy', 'key', 'key_confidence', \n",
    "        'loudness', 'mode', 'mode_confidence',\n",
    "        'start_of_fade_out', 'tempo', 'time_signature',\n",
    "        'time_signature_confidence', 'year', 'acousticness', \n",
    "        'danceability.1', 'duration_ms', 'energy.1', 'instrumentalness',\n",
    "        'key.1', 'liveness', 'loudness.1', 'mode.1', 'speechiness', 'tempo.1',\n",
    "        'time_signature.1', 'valence']"
   ]
  },
  {
   "cell_type": "code",
   "execution_count": 3,
   "metadata": {},
   "outputs": [],
   "source": [
    "million_csv = pd.read_csv(\"FeatureEngineered_genre.csv\")"
   ]
  },
  {
   "cell_type": "code",
   "execution_count": 4,
   "metadata": {},
   "outputs": [
    {
     "data": {
      "text/plain": [
       "45"
      ]
     },
     "execution_count": 4,
     "metadata": {},
     "output_type": "execute_result"
    }
   ],
   "source": [
    "# Filter out the columns I want\n",
    "million_data = million_csv\n",
    "len(million_data.columns)"
   ]
  },
  {
   "cell_type": "raw",
   "metadata": {},
   "source": [
    "# Filter out missing years\n",
    "million_data = million_data[million_data.year != 0]\n",
    "million_data = million_data[million_data.year.notnull()]"
   ]
  },
  {
   "cell_type": "raw",
   "metadata": {},
   "source": [
    "# Fill in missing data with mean\n",
    "million_data = million_data.fillna(million_data.mean())\n"
   ]
  },
  {
   "cell_type": "code",
   "execution_count": 5,
   "metadata": {},
   "outputs": [
    {
     "name": "stderr",
     "output_type": "stream",
     "text": [
      "Using TensorFlow backend.\n"
     ]
    }
   ],
   "source": [
    "from keras.wrappers.scikit_learn import KerasClassifier\n",
    "from keras.wrappers.scikit_learn import KerasRegressor\n",
    "from keras.layers import Dense\n",
    "from keras.layers import Dropout\n",
    "from keras.utils import np_utils\n",
    "\n",
    "from keras.models import Sequential\n",
    "\n",
    "from sklearn.preprocessing import LabelEncoder\n",
    "from keras.optimizers import SGD\n",
    "\n",
    "from sklearn.model_selection import train_test_split"
   ]
  },
  {
   "cell_type": "code",
   "execution_count": 6,
   "metadata": {},
   "outputs": [],
   "source": [
    "random_state = 100\n",
    "np.random.seed(random_state)\n",
    "train, test = train_test_split(million_data, test_size=.2, random_state = random_state)"
   ]
  },
  {
   "cell_type": "code",
   "execution_count": 7,
   "metadata": {},
   "outputs": [
    {
     "name": "stdout",
     "output_type": "stream",
     "text": [
      "year    1910\n",
      "dtype: int32\n",
      "year    1920\n",
      "dtype: int32\n",
      "year    2010\n",
      "dtype: int32\n",
      "year    2010\n",
      "dtype: int32\n"
     ]
    }
   ],
   "source": [
    "y_train = train.iloc[:,train.columns == 'year']\n",
    "X_train = train.loc[:, train.columns != 'year']\n",
    "y_test = test.iloc[:,train.columns == 'year']\n",
    "X_test = test.loc[:, test.columns != 'year']\n",
    "y_train = y_train.astype('int32')\n",
    "y_test = y_test.astype('int32')\n",
    "print(y_train.min(axis=0))\n",
    "print(y_test.min(axis=0))\n",
    "\n",
    "print(y_train.max(axis=0))\n",
    "print(y_test.max(axis=0))"
   ]
  },
  {
   "cell_type": "raw",
   "metadata": {},
   "source": [
    "# \"Floor\" the years\n",
    "for item in tqdm(range(0, len(y_train))):\n",
    "    y_train.iloc[item] = int(y_train.iloc[item] / 10) * 10\n",
    "for item in tqdm(range(0, len(y_test))):\n",
    "    y_test.iloc[item] = int(y_test.iloc[item] / 10) * 10"
   ]
  },
  {
   "cell_type": "code",
   "execution_count": 8,
   "metadata": {},
   "outputs": [],
   "source": [
    "def create_model(learning_rate = .001, momentum = .5, init_mode = 'zero', activation = 'softplus'):\n",
    "    # From medium Building Neural Networks using Keras for Classification article\n",
    "    model = Sequential()\n",
    "\n",
    "    \n",
    "    model.add(Dense(32, activation=activation, kernel_initializer=init_mode))\n",
    "\n",
    "    model.add(Dense(16, activation=activation, kernel_initializer=init_mode))\n",
    "\n",
    "    model.add(Dense(8, activation=activation, kernel_initializer=init_mode))\n",
    "\n",
    "    model.add(Dense(4, activation=activation, kernel_initializer=init_mode))\n",
    "    \n",
    "    model.add(Dense(4, activation=activation, kernel_initializer=init_mode))\n",
    "\n",
    "    #Output Layer\n",
    "    model.add(Dense(1, kernel_initializer=init_mode))\n",
    "    \n",
    "#     sgd = SGD(lr = learning_rate, momentum=momentum)\n",
    "    model.compile(loss='mean_squared_error', optimizer='adam', metrics =['accuracy'])\n",
    "    \n",
    "    return model\n",
    "\n",
    "model = KerasRegressor(build_fn=create_model, verbose = 0)"
   ]
  },
  {
   "cell_type": "code",
   "execution_count": 11,
   "metadata": {},
   "outputs": [
    {
     "name": "stdout",
     "output_type": "stream",
     "text": [
      "Fitting 3 folds for each of 600 candidates, totalling 1800 fits\n"
     ]
    },
    {
     "name": "stderr",
     "output_type": "stream",
     "text": [
      "[Parallel(n_jobs=6)]: Using backend LokyBackend with 6 concurrent workers.\n",
      "[Parallel(n_jobs=6)]: Done  38 tasks      | elapsed:    9.2s\n",
      "[Parallel(n_jobs=6)]: Done 188 tasks      | elapsed:  1.4min\n",
      "[Parallel(n_jobs=6)]: Done 438 tasks      | elapsed:  6.3min\n",
      "[Parallel(n_jobs=6)]: Done 788 tasks      | elapsed: 20.8min\n",
      "exception calling callback for <Future at 0x7f4dfd5cb898 state=finished raised TerminatedWorkerError>\n",
      "Traceback (most recent call last):\n",
      "  File \"/home/brandon/python3_environments/ds19_project/lib/python3.6/site-packages/sklearn/externals/joblib/externals/loky/_base.py\", line 625, in _invoke_callbacks\n",
      "    callback(self)\n",
      "  File \"/home/brandon/python3_environments/ds19_project/lib/python3.6/site-packages/sklearn/externals/joblib/parallel.py\", line 309, in __call__\n",
      "    self.parallel.dispatch_next()\n",
      "  File \"/home/brandon/python3_environments/ds19_project/lib/python3.6/site-packages/sklearn/externals/joblib/parallel.py\", line 731, in dispatch_next\n",
      "    if not self.dispatch_one_batch(self._original_iterator):\n",
      "  File \"/home/brandon/python3_environments/ds19_project/lib/python3.6/site-packages/sklearn/externals/joblib/parallel.py\", line 759, in dispatch_one_batch\n",
      "    self._dispatch(tasks)\n",
      "  File \"/home/brandon/python3_environments/ds19_project/lib/python3.6/site-packages/sklearn/externals/joblib/parallel.py\", line 716, in _dispatch\n",
      "    job = self._backend.apply_async(batch, callback=cb)\n",
      "  File \"/home/brandon/python3_environments/ds19_project/lib/python3.6/site-packages/sklearn/externals/joblib/_parallel_backends.py\", line 510, in apply_async\n",
      "    future = self._workers.submit(SafeFunction(func))\n",
      "  File \"/home/brandon/python3_environments/ds19_project/lib/python3.6/site-packages/sklearn/externals/joblib/externals/loky/reusable_executor.py\", line 151, in submit\n",
      "    fn, *args, **kwargs)\n",
      "  File \"/home/brandon/python3_environments/ds19_project/lib/python3.6/site-packages/sklearn/externals/joblib/externals/loky/process_executor.py\", line 1022, in submit\n",
      "    raise self._flags.broken\n",
      "sklearn.externals.joblib.externals.loky.process_executor.TerminatedWorkerError: A worker process managed by the executor was unexpectedly terminated. This could be caused by a segmentation fault while calling the function or by an excessive memory usage causing the Operating System to kill the worker. The exit codes of the workers are {SIGKILL(-9)}\n"
     ]
    },
    {
     "ename": "TerminatedWorkerError",
     "evalue": "A worker process managed by the executor was unexpectedly terminated. This could be caused by a segmentation fault while calling the function or by an excessive memory usage causing the Operating System to kill the worker. The exit codes of the workers are {SIGKILL(-9)}",
     "output_type": "error",
     "traceback": [
      "\u001b[0;31m---------------------------------------------------------------------------\u001b[0m",
      "\u001b[0;31mTerminatedWorkerError\u001b[0m                     Traceback (most recent call last)",
      "\u001b[0;32m<ipython-input-11-916cab9ba089>\u001b[0m in \u001b[0;36m<module>\u001b[0;34m\u001b[0m\n\u001b[1;32m     24\u001b[0m                  )\n\u001b[1;32m     25\u001b[0m \u001b[0mgrid\u001b[0m \u001b[0;34m=\u001b[0m \u001b[0mGridSearchCV\u001b[0m\u001b[0;34m(\u001b[0m\u001b[0mestimator\u001b[0m\u001b[0;34m=\u001b[0m\u001b[0mmodel\u001b[0m\u001b[0;34m,\u001b[0m \u001b[0mparam_grid\u001b[0m\u001b[0;34m=\u001b[0m\u001b[0mparam_grid\u001b[0m\u001b[0;34m,\u001b[0m \u001b[0mcv\u001b[0m \u001b[0;34m=\u001b[0m \u001b[0;36m3\u001b[0m\u001b[0;34m,\u001b[0m \u001b[0mn_jobs\u001b[0m\u001b[0;34m=\u001b[0m\u001b[0;36m6\u001b[0m\u001b[0;34m,\u001b[0m \u001b[0mscoring\u001b[0m\u001b[0;34m=\u001b[0m\u001b[0;34m'neg_mean_squared_error'\u001b[0m\u001b[0;34m,\u001b[0m \u001b[0mverbose\u001b[0m\u001b[0;34m=\u001b[0m\u001b[0;36m1\u001b[0m\u001b[0;34m)\u001b[0m\u001b[0;34m\u001b[0m\u001b[0;34m\u001b[0m\u001b[0m\n\u001b[0;32m---> 26\u001b[0;31m \u001b[0mgrid_result\u001b[0m \u001b[0;34m=\u001b[0m \u001b[0mgrid\u001b[0m\u001b[0;34m.\u001b[0m\u001b[0mfit\u001b[0m\u001b[0;34m(\u001b[0m\u001b[0mX_train\u001b[0m\u001b[0;34m.\u001b[0m\u001b[0mvalues\u001b[0m\u001b[0;34m,\u001b[0m \u001b[0my_train\u001b[0m\u001b[0;34m.\u001b[0m\u001b[0mvalues\u001b[0m\u001b[0;34m)\u001b[0m\u001b[0;34m\u001b[0m\u001b[0;34m\u001b[0m\u001b[0m\n\u001b[0m",
      "\u001b[0;32m~/python3_environments/ds19_project/lib/python3.6/site-packages/sklearn/model_selection/_search.py\u001b[0m in \u001b[0;36mfit\u001b[0;34m(self, X, y, groups, **fit_params)\u001b[0m\n\u001b[1;32m    720\u001b[0m                 \u001b[0;32mreturn\u001b[0m \u001b[0mresults_container\u001b[0m\u001b[0;34m[\u001b[0m\u001b[0;36m0\u001b[0m\u001b[0;34m]\u001b[0m\u001b[0;34m\u001b[0m\u001b[0;34m\u001b[0m\u001b[0m\n\u001b[1;32m    721\u001b[0m \u001b[0;34m\u001b[0m\u001b[0m\n\u001b[0;32m--> 722\u001b[0;31m             \u001b[0mself\u001b[0m\u001b[0;34m.\u001b[0m\u001b[0m_run_search\u001b[0m\u001b[0;34m(\u001b[0m\u001b[0mevaluate_candidates\u001b[0m\u001b[0;34m)\u001b[0m\u001b[0;34m\u001b[0m\u001b[0;34m\u001b[0m\u001b[0m\n\u001b[0m\u001b[1;32m    723\u001b[0m \u001b[0;34m\u001b[0m\u001b[0m\n\u001b[1;32m    724\u001b[0m         \u001b[0mresults\u001b[0m \u001b[0;34m=\u001b[0m \u001b[0mresults_container\u001b[0m\u001b[0;34m[\u001b[0m\u001b[0;36m0\u001b[0m\u001b[0;34m]\u001b[0m\u001b[0;34m\u001b[0m\u001b[0;34m\u001b[0m\u001b[0m\n",
      "\u001b[0;32m~/python3_environments/ds19_project/lib/python3.6/site-packages/sklearn/model_selection/_search.py\u001b[0m in \u001b[0;36m_run_search\u001b[0;34m(self, evaluate_candidates)\u001b[0m\n\u001b[1;32m   1189\u001b[0m     \u001b[0;32mdef\u001b[0m \u001b[0m_run_search\u001b[0m\u001b[0;34m(\u001b[0m\u001b[0mself\u001b[0m\u001b[0;34m,\u001b[0m \u001b[0mevaluate_candidates\u001b[0m\u001b[0;34m)\u001b[0m\u001b[0;34m:\u001b[0m\u001b[0;34m\u001b[0m\u001b[0;34m\u001b[0m\u001b[0m\n\u001b[1;32m   1190\u001b[0m         \u001b[0;34m\"\"\"Search all candidates in param_grid\"\"\"\u001b[0m\u001b[0;34m\u001b[0m\u001b[0;34m\u001b[0m\u001b[0m\n\u001b[0;32m-> 1191\u001b[0;31m         \u001b[0mevaluate_candidates\u001b[0m\u001b[0;34m(\u001b[0m\u001b[0mParameterGrid\u001b[0m\u001b[0;34m(\u001b[0m\u001b[0mself\u001b[0m\u001b[0;34m.\u001b[0m\u001b[0mparam_grid\u001b[0m\u001b[0;34m)\u001b[0m\u001b[0;34m)\u001b[0m\u001b[0;34m\u001b[0m\u001b[0;34m\u001b[0m\u001b[0m\n\u001b[0m\u001b[1;32m   1192\u001b[0m \u001b[0;34m\u001b[0m\u001b[0m\n\u001b[1;32m   1193\u001b[0m \u001b[0;34m\u001b[0m\u001b[0m\n",
      "\u001b[0;32m~/python3_environments/ds19_project/lib/python3.6/site-packages/sklearn/model_selection/_search.py\u001b[0m in \u001b[0;36mevaluate_candidates\u001b[0;34m(candidate_params)\u001b[0m\n\u001b[1;32m    709\u001b[0m                                \u001b[0;32mfor\u001b[0m \u001b[0mparameters\u001b[0m\u001b[0;34m,\u001b[0m \u001b[0;34m(\u001b[0m\u001b[0mtrain\u001b[0m\u001b[0;34m,\u001b[0m \u001b[0mtest\u001b[0m\u001b[0;34m)\u001b[0m\u001b[0;34m\u001b[0m\u001b[0;34m\u001b[0m\u001b[0m\n\u001b[1;32m    710\u001b[0m                                in product(candidate_params,\n\u001b[0;32m--> 711\u001b[0;31m                                           cv.split(X, y, groups)))\n\u001b[0m\u001b[1;32m    712\u001b[0m \u001b[0;34m\u001b[0m\u001b[0m\n\u001b[1;32m    713\u001b[0m                 \u001b[0mall_candidate_params\u001b[0m\u001b[0;34m.\u001b[0m\u001b[0mextend\u001b[0m\u001b[0;34m(\u001b[0m\u001b[0mcandidate_params\u001b[0m\u001b[0;34m)\u001b[0m\u001b[0;34m\u001b[0m\u001b[0;34m\u001b[0m\u001b[0m\n",
      "\u001b[0;32m~/python3_environments/ds19_project/lib/python3.6/site-packages/sklearn/externals/joblib/parallel.py\u001b[0m in \u001b[0;36m__call__\u001b[0;34m(self, iterable)\u001b[0m\n\u001b[1;32m    928\u001b[0m \u001b[0;34m\u001b[0m\u001b[0m\n\u001b[1;32m    929\u001b[0m             \u001b[0;32mwith\u001b[0m \u001b[0mself\u001b[0m\u001b[0;34m.\u001b[0m\u001b[0m_backend\u001b[0m\u001b[0;34m.\u001b[0m\u001b[0mretrieval_context\u001b[0m\u001b[0;34m(\u001b[0m\u001b[0;34m)\u001b[0m\u001b[0;34m:\u001b[0m\u001b[0;34m\u001b[0m\u001b[0;34m\u001b[0m\u001b[0m\n\u001b[0;32m--> 930\u001b[0;31m                 \u001b[0mself\u001b[0m\u001b[0;34m.\u001b[0m\u001b[0mretrieve\u001b[0m\u001b[0;34m(\u001b[0m\u001b[0;34m)\u001b[0m\u001b[0;34m\u001b[0m\u001b[0;34m\u001b[0m\u001b[0m\n\u001b[0m\u001b[1;32m    931\u001b[0m             \u001b[0;31m# Make sure that we get a last message telling us we are done\u001b[0m\u001b[0;34m\u001b[0m\u001b[0;34m\u001b[0m\u001b[0;34m\u001b[0m\u001b[0m\n\u001b[1;32m    932\u001b[0m             \u001b[0melapsed_time\u001b[0m \u001b[0;34m=\u001b[0m \u001b[0mtime\u001b[0m\u001b[0;34m.\u001b[0m\u001b[0mtime\u001b[0m\u001b[0;34m(\u001b[0m\u001b[0;34m)\u001b[0m \u001b[0;34m-\u001b[0m \u001b[0mself\u001b[0m\u001b[0;34m.\u001b[0m\u001b[0m_start_time\u001b[0m\u001b[0;34m\u001b[0m\u001b[0;34m\u001b[0m\u001b[0m\n",
      "\u001b[0;32m~/python3_environments/ds19_project/lib/python3.6/site-packages/sklearn/externals/joblib/parallel.py\u001b[0m in \u001b[0;36mretrieve\u001b[0;34m(self)\u001b[0m\n\u001b[1;32m    831\u001b[0m             \u001b[0;32mtry\u001b[0m\u001b[0;34m:\u001b[0m\u001b[0;34m\u001b[0m\u001b[0;34m\u001b[0m\u001b[0m\n\u001b[1;32m    832\u001b[0m                 \u001b[0;32mif\u001b[0m \u001b[0mgetattr\u001b[0m\u001b[0;34m(\u001b[0m\u001b[0mself\u001b[0m\u001b[0;34m.\u001b[0m\u001b[0m_backend\u001b[0m\u001b[0;34m,\u001b[0m \u001b[0;34m'supports_timeout'\u001b[0m\u001b[0;34m,\u001b[0m \u001b[0;32mFalse\u001b[0m\u001b[0;34m)\u001b[0m\u001b[0;34m:\u001b[0m\u001b[0;34m\u001b[0m\u001b[0;34m\u001b[0m\u001b[0m\n\u001b[0;32m--> 833\u001b[0;31m                     \u001b[0mself\u001b[0m\u001b[0;34m.\u001b[0m\u001b[0m_output\u001b[0m\u001b[0;34m.\u001b[0m\u001b[0mextend\u001b[0m\u001b[0;34m(\u001b[0m\u001b[0mjob\u001b[0m\u001b[0;34m.\u001b[0m\u001b[0mget\u001b[0m\u001b[0;34m(\u001b[0m\u001b[0mtimeout\u001b[0m\u001b[0;34m=\u001b[0m\u001b[0mself\u001b[0m\u001b[0;34m.\u001b[0m\u001b[0mtimeout\u001b[0m\u001b[0;34m)\u001b[0m\u001b[0;34m)\u001b[0m\u001b[0;34m\u001b[0m\u001b[0;34m\u001b[0m\u001b[0m\n\u001b[0m\u001b[1;32m    834\u001b[0m                 \u001b[0;32melse\u001b[0m\u001b[0;34m:\u001b[0m\u001b[0;34m\u001b[0m\u001b[0;34m\u001b[0m\u001b[0m\n\u001b[1;32m    835\u001b[0m                     \u001b[0mself\u001b[0m\u001b[0;34m.\u001b[0m\u001b[0m_output\u001b[0m\u001b[0;34m.\u001b[0m\u001b[0mextend\u001b[0m\u001b[0;34m(\u001b[0m\u001b[0mjob\u001b[0m\u001b[0;34m.\u001b[0m\u001b[0mget\u001b[0m\u001b[0;34m(\u001b[0m\u001b[0;34m)\u001b[0m\u001b[0;34m)\u001b[0m\u001b[0;34m\u001b[0m\u001b[0;34m\u001b[0m\u001b[0m\n",
      "\u001b[0;32m~/python3_environments/ds19_project/lib/python3.6/site-packages/sklearn/externals/joblib/_parallel_backends.py\u001b[0m in \u001b[0;36mwrap_future_result\u001b[0;34m(future, timeout)\u001b[0m\n\u001b[1;32m    519\u001b[0m         AsyncResults.get from multiprocessing.\"\"\"\n\u001b[1;32m    520\u001b[0m         \u001b[0;32mtry\u001b[0m\u001b[0;34m:\u001b[0m\u001b[0;34m\u001b[0m\u001b[0;34m\u001b[0m\u001b[0m\n\u001b[0;32m--> 521\u001b[0;31m             \u001b[0;32mreturn\u001b[0m \u001b[0mfuture\u001b[0m\u001b[0;34m.\u001b[0m\u001b[0mresult\u001b[0m\u001b[0;34m(\u001b[0m\u001b[0mtimeout\u001b[0m\u001b[0;34m=\u001b[0m\u001b[0mtimeout\u001b[0m\u001b[0;34m)\u001b[0m\u001b[0;34m\u001b[0m\u001b[0;34m\u001b[0m\u001b[0m\n\u001b[0m\u001b[1;32m    522\u001b[0m         \u001b[0;32mexcept\u001b[0m \u001b[0mLokyTimeoutError\u001b[0m\u001b[0;34m:\u001b[0m\u001b[0;34m\u001b[0m\u001b[0;34m\u001b[0m\u001b[0m\n\u001b[1;32m    523\u001b[0m             \u001b[0;32mraise\u001b[0m \u001b[0mTimeoutError\u001b[0m\u001b[0;34m(\u001b[0m\u001b[0;34m)\u001b[0m\u001b[0;34m\u001b[0m\u001b[0;34m\u001b[0m\u001b[0m\n",
      "\u001b[0;32m/usr/lib/python3.6/concurrent/futures/_base.py\u001b[0m in \u001b[0;36mresult\u001b[0;34m(self, timeout)\u001b[0m\n\u001b[1;32m    430\u001b[0m                 \u001b[0;32mraise\u001b[0m \u001b[0mCancelledError\u001b[0m\u001b[0;34m(\u001b[0m\u001b[0;34m)\u001b[0m\u001b[0;34m\u001b[0m\u001b[0;34m\u001b[0m\u001b[0m\n\u001b[1;32m    431\u001b[0m             \u001b[0;32melif\u001b[0m \u001b[0mself\u001b[0m\u001b[0;34m.\u001b[0m\u001b[0m_state\u001b[0m \u001b[0;34m==\u001b[0m \u001b[0mFINISHED\u001b[0m\u001b[0;34m:\u001b[0m\u001b[0;34m\u001b[0m\u001b[0;34m\u001b[0m\u001b[0m\n\u001b[0;32m--> 432\u001b[0;31m                 \u001b[0;32mreturn\u001b[0m \u001b[0mself\u001b[0m\u001b[0;34m.\u001b[0m\u001b[0m__get_result\u001b[0m\u001b[0;34m(\u001b[0m\u001b[0;34m)\u001b[0m\u001b[0;34m\u001b[0m\u001b[0;34m\u001b[0m\u001b[0m\n\u001b[0m\u001b[1;32m    433\u001b[0m             \u001b[0;32melse\u001b[0m\u001b[0;34m:\u001b[0m\u001b[0;34m\u001b[0m\u001b[0;34m\u001b[0m\u001b[0m\n\u001b[1;32m    434\u001b[0m                 \u001b[0;32mraise\u001b[0m \u001b[0mTimeoutError\u001b[0m\u001b[0;34m(\u001b[0m\u001b[0;34m)\u001b[0m\u001b[0;34m\u001b[0m\u001b[0;34m\u001b[0m\u001b[0m\n",
      "\u001b[0;32m/usr/lib/python3.6/concurrent/futures/_base.py\u001b[0m in \u001b[0;36m__get_result\u001b[0;34m(self)\u001b[0m\n\u001b[1;32m    382\u001b[0m     \u001b[0;32mdef\u001b[0m \u001b[0m__get_result\u001b[0m\u001b[0;34m(\u001b[0m\u001b[0mself\u001b[0m\u001b[0;34m)\u001b[0m\u001b[0;34m:\u001b[0m\u001b[0;34m\u001b[0m\u001b[0;34m\u001b[0m\u001b[0m\n\u001b[1;32m    383\u001b[0m         \u001b[0;32mif\u001b[0m \u001b[0mself\u001b[0m\u001b[0;34m.\u001b[0m\u001b[0m_exception\u001b[0m\u001b[0;34m:\u001b[0m\u001b[0;34m\u001b[0m\u001b[0;34m\u001b[0m\u001b[0m\n\u001b[0;32m--> 384\u001b[0;31m             \u001b[0;32mraise\u001b[0m \u001b[0mself\u001b[0m\u001b[0;34m.\u001b[0m\u001b[0m_exception\u001b[0m\u001b[0;34m\u001b[0m\u001b[0;34m\u001b[0m\u001b[0m\n\u001b[0m\u001b[1;32m    385\u001b[0m         \u001b[0;32melse\u001b[0m\u001b[0;34m:\u001b[0m\u001b[0;34m\u001b[0m\u001b[0;34m\u001b[0m\u001b[0m\n\u001b[1;32m    386\u001b[0m             \u001b[0;32mreturn\u001b[0m \u001b[0mself\u001b[0m\u001b[0;34m.\u001b[0m\u001b[0m_result\u001b[0m\u001b[0;34m\u001b[0m\u001b[0;34m\u001b[0m\u001b[0m\n",
      "\u001b[0;32m~/python3_environments/ds19_project/lib/python3.6/site-packages/sklearn/externals/joblib/externals/loky/_base.py\u001b[0m in \u001b[0;36m_invoke_callbacks\u001b[0;34m(self)\u001b[0m\n\u001b[1;32m    623\u001b[0m         \u001b[0;32mfor\u001b[0m \u001b[0mcallback\u001b[0m \u001b[0;32min\u001b[0m \u001b[0mself\u001b[0m\u001b[0;34m.\u001b[0m\u001b[0m_done_callbacks\u001b[0m\u001b[0;34m:\u001b[0m\u001b[0;34m\u001b[0m\u001b[0;34m\u001b[0m\u001b[0m\n\u001b[1;32m    624\u001b[0m             \u001b[0;32mtry\u001b[0m\u001b[0;34m:\u001b[0m\u001b[0;34m\u001b[0m\u001b[0;34m\u001b[0m\u001b[0m\n\u001b[0;32m--> 625\u001b[0;31m                 \u001b[0mcallback\u001b[0m\u001b[0;34m(\u001b[0m\u001b[0mself\u001b[0m\u001b[0;34m)\u001b[0m\u001b[0;34m\u001b[0m\u001b[0;34m\u001b[0m\u001b[0m\n\u001b[0m\u001b[1;32m    626\u001b[0m             \u001b[0;32mexcept\u001b[0m \u001b[0mBaseException\u001b[0m\u001b[0;34m:\u001b[0m\u001b[0;34m\u001b[0m\u001b[0;34m\u001b[0m\u001b[0m\n\u001b[1;32m    627\u001b[0m                 \u001b[0mLOGGER\u001b[0m\u001b[0;34m.\u001b[0m\u001b[0mexception\u001b[0m\u001b[0;34m(\u001b[0m\u001b[0;34m'exception calling callback for %r'\u001b[0m\u001b[0;34m,\u001b[0m \u001b[0mself\u001b[0m\u001b[0;34m)\u001b[0m\u001b[0;34m\u001b[0m\u001b[0;34m\u001b[0m\u001b[0m\n",
      "\u001b[0;32m~/python3_environments/ds19_project/lib/python3.6/site-packages/sklearn/externals/joblib/parallel.py\u001b[0m in \u001b[0;36m__call__\u001b[0;34m(self, out)\u001b[0m\n\u001b[1;32m    307\u001b[0m         \u001b[0;32mwith\u001b[0m \u001b[0mself\u001b[0m\u001b[0;34m.\u001b[0m\u001b[0mparallel\u001b[0m\u001b[0;34m.\u001b[0m\u001b[0m_lock\u001b[0m\u001b[0;34m:\u001b[0m\u001b[0;34m\u001b[0m\u001b[0;34m\u001b[0m\u001b[0m\n\u001b[1;32m    308\u001b[0m             \u001b[0;32mif\u001b[0m \u001b[0mself\u001b[0m\u001b[0;34m.\u001b[0m\u001b[0mparallel\u001b[0m\u001b[0;34m.\u001b[0m\u001b[0m_original_iterator\u001b[0m \u001b[0;32mis\u001b[0m \u001b[0;32mnot\u001b[0m \u001b[0;32mNone\u001b[0m\u001b[0;34m:\u001b[0m\u001b[0;34m\u001b[0m\u001b[0;34m\u001b[0m\u001b[0m\n\u001b[0;32m--> 309\u001b[0;31m                 \u001b[0mself\u001b[0m\u001b[0;34m.\u001b[0m\u001b[0mparallel\u001b[0m\u001b[0;34m.\u001b[0m\u001b[0mdispatch_next\u001b[0m\u001b[0;34m(\u001b[0m\u001b[0;34m)\u001b[0m\u001b[0;34m\u001b[0m\u001b[0;34m\u001b[0m\u001b[0m\n\u001b[0m\u001b[1;32m    310\u001b[0m \u001b[0;34m\u001b[0m\u001b[0m\n\u001b[1;32m    311\u001b[0m \u001b[0;34m\u001b[0m\u001b[0m\n",
      "\u001b[0;32m~/python3_environments/ds19_project/lib/python3.6/site-packages/sklearn/externals/joblib/parallel.py\u001b[0m in \u001b[0;36mdispatch_next\u001b[0;34m(self)\u001b[0m\n\u001b[1;32m    729\u001b[0m \u001b[0;34m\u001b[0m\u001b[0m\n\u001b[1;32m    730\u001b[0m         \"\"\"\n\u001b[0;32m--> 731\u001b[0;31m         \u001b[0;32mif\u001b[0m \u001b[0;32mnot\u001b[0m \u001b[0mself\u001b[0m\u001b[0;34m.\u001b[0m\u001b[0mdispatch_one_batch\u001b[0m\u001b[0;34m(\u001b[0m\u001b[0mself\u001b[0m\u001b[0;34m.\u001b[0m\u001b[0m_original_iterator\u001b[0m\u001b[0;34m)\u001b[0m\u001b[0;34m:\u001b[0m\u001b[0;34m\u001b[0m\u001b[0;34m\u001b[0m\u001b[0m\n\u001b[0m\u001b[1;32m    732\u001b[0m             \u001b[0mself\u001b[0m\u001b[0;34m.\u001b[0m\u001b[0m_iterating\u001b[0m \u001b[0;34m=\u001b[0m \u001b[0;32mFalse\u001b[0m\u001b[0;34m\u001b[0m\u001b[0;34m\u001b[0m\u001b[0m\n\u001b[1;32m    733\u001b[0m             \u001b[0mself\u001b[0m\u001b[0;34m.\u001b[0m\u001b[0m_original_iterator\u001b[0m \u001b[0;34m=\u001b[0m \u001b[0;32mNone\u001b[0m\u001b[0;34m\u001b[0m\u001b[0;34m\u001b[0m\u001b[0m\n",
      "\u001b[0;32m~/python3_environments/ds19_project/lib/python3.6/site-packages/sklearn/externals/joblib/parallel.py\u001b[0m in \u001b[0;36mdispatch_one_batch\u001b[0;34m(self, iterator)\u001b[0m\n\u001b[1;32m    757\u001b[0m                 \u001b[0;32mreturn\u001b[0m \u001b[0;32mFalse\u001b[0m\u001b[0;34m\u001b[0m\u001b[0;34m\u001b[0m\u001b[0m\n\u001b[1;32m    758\u001b[0m             \u001b[0;32melse\u001b[0m\u001b[0;34m:\u001b[0m\u001b[0;34m\u001b[0m\u001b[0;34m\u001b[0m\u001b[0m\n\u001b[0;32m--> 759\u001b[0;31m                 \u001b[0mself\u001b[0m\u001b[0;34m.\u001b[0m\u001b[0m_dispatch\u001b[0m\u001b[0;34m(\u001b[0m\u001b[0mtasks\u001b[0m\u001b[0;34m)\u001b[0m\u001b[0;34m\u001b[0m\u001b[0;34m\u001b[0m\u001b[0m\n\u001b[0m\u001b[1;32m    760\u001b[0m                 \u001b[0;32mreturn\u001b[0m \u001b[0;32mTrue\u001b[0m\u001b[0;34m\u001b[0m\u001b[0;34m\u001b[0m\u001b[0m\n\u001b[1;32m    761\u001b[0m \u001b[0;34m\u001b[0m\u001b[0m\n",
      "\u001b[0;32m~/python3_environments/ds19_project/lib/python3.6/site-packages/sklearn/externals/joblib/parallel.py\u001b[0m in \u001b[0;36m_dispatch\u001b[0;34m(self, batch)\u001b[0m\n\u001b[1;32m    714\u001b[0m         \u001b[0;32mwith\u001b[0m \u001b[0mself\u001b[0m\u001b[0;34m.\u001b[0m\u001b[0m_lock\u001b[0m\u001b[0;34m:\u001b[0m\u001b[0;34m\u001b[0m\u001b[0;34m\u001b[0m\u001b[0m\n\u001b[1;32m    715\u001b[0m             \u001b[0mjob_idx\u001b[0m \u001b[0;34m=\u001b[0m \u001b[0mlen\u001b[0m\u001b[0;34m(\u001b[0m\u001b[0mself\u001b[0m\u001b[0;34m.\u001b[0m\u001b[0m_jobs\u001b[0m\u001b[0;34m)\u001b[0m\u001b[0;34m\u001b[0m\u001b[0;34m\u001b[0m\u001b[0m\n\u001b[0;32m--> 716\u001b[0;31m             \u001b[0mjob\u001b[0m \u001b[0;34m=\u001b[0m \u001b[0mself\u001b[0m\u001b[0;34m.\u001b[0m\u001b[0m_backend\u001b[0m\u001b[0;34m.\u001b[0m\u001b[0mapply_async\u001b[0m\u001b[0;34m(\u001b[0m\u001b[0mbatch\u001b[0m\u001b[0;34m,\u001b[0m \u001b[0mcallback\u001b[0m\u001b[0;34m=\u001b[0m\u001b[0mcb\u001b[0m\u001b[0;34m)\u001b[0m\u001b[0;34m\u001b[0m\u001b[0;34m\u001b[0m\u001b[0m\n\u001b[0m\u001b[1;32m    717\u001b[0m             \u001b[0;31m# A job can complete so quickly than its callback is\u001b[0m\u001b[0;34m\u001b[0m\u001b[0;34m\u001b[0m\u001b[0;34m\u001b[0m\u001b[0m\n\u001b[1;32m    718\u001b[0m             \u001b[0;31m# called before we get here, causing self._jobs to\u001b[0m\u001b[0;34m\u001b[0m\u001b[0;34m\u001b[0m\u001b[0;34m\u001b[0m\u001b[0m\n",
      "\u001b[0;32m~/python3_environments/ds19_project/lib/python3.6/site-packages/sklearn/externals/joblib/_parallel_backends.py\u001b[0m in \u001b[0;36mapply_async\u001b[0;34m(self, func, callback)\u001b[0m\n\u001b[1;32m    508\u001b[0m     \u001b[0;32mdef\u001b[0m \u001b[0mapply_async\u001b[0m\u001b[0;34m(\u001b[0m\u001b[0mself\u001b[0m\u001b[0;34m,\u001b[0m \u001b[0mfunc\u001b[0m\u001b[0;34m,\u001b[0m \u001b[0mcallback\u001b[0m\u001b[0;34m=\u001b[0m\u001b[0;32mNone\u001b[0m\u001b[0;34m)\u001b[0m\u001b[0;34m:\u001b[0m\u001b[0;34m\u001b[0m\u001b[0;34m\u001b[0m\u001b[0m\n\u001b[1;32m    509\u001b[0m         \u001b[0;34m\"\"\"Schedule a func to be run\"\"\"\u001b[0m\u001b[0;34m\u001b[0m\u001b[0;34m\u001b[0m\u001b[0m\n\u001b[0;32m--> 510\u001b[0;31m         \u001b[0mfuture\u001b[0m \u001b[0;34m=\u001b[0m \u001b[0mself\u001b[0m\u001b[0;34m.\u001b[0m\u001b[0m_workers\u001b[0m\u001b[0;34m.\u001b[0m\u001b[0msubmit\u001b[0m\u001b[0;34m(\u001b[0m\u001b[0mSafeFunction\u001b[0m\u001b[0;34m(\u001b[0m\u001b[0mfunc\u001b[0m\u001b[0;34m)\u001b[0m\u001b[0;34m)\u001b[0m\u001b[0;34m\u001b[0m\u001b[0;34m\u001b[0m\u001b[0m\n\u001b[0m\u001b[1;32m    511\u001b[0m         \u001b[0mfuture\u001b[0m\u001b[0;34m.\u001b[0m\u001b[0mget\u001b[0m \u001b[0;34m=\u001b[0m \u001b[0mfunctools\u001b[0m\u001b[0;34m.\u001b[0m\u001b[0mpartial\u001b[0m\u001b[0;34m(\u001b[0m\u001b[0mself\u001b[0m\u001b[0;34m.\u001b[0m\u001b[0mwrap_future_result\u001b[0m\u001b[0;34m,\u001b[0m \u001b[0mfuture\u001b[0m\u001b[0;34m)\u001b[0m\u001b[0;34m\u001b[0m\u001b[0;34m\u001b[0m\u001b[0m\n\u001b[1;32m    512\u001b[0m         \u001b[0;32mif\u001b[0m \u001b[0mcallback\u001b[0m \u001b[0;32mis\u001b[0m \u001b[0;32mnot\u001b[0m \u001b[0;32mNone\u001b[0m\u001b[0;34m:\u001b[0m\u001b[0;34m\u001b[0m\u001b[0;34m\u001b[0m\u001b[0m\n",
      "\u001b[0;32m~/python3_environments/ds19_project/lib/python3.6/site-packages/sklearn/externals/joblib/externals/loky/reusable_executor.py\u001b[0m in \u001b[0;36msubmit\u001b[0;34m(self, fn, *args, **kwargs)\u001b[0m\n\u001b[1;32m    149\u001b[0m         \u001b[0;32mwith\u001b[0m \u001b[0mself\u001b[0m\u001b[0;34m.\u001b[0m\u001b[0m_submit_resize_lock\u001b[0m\u001b[0;34m:\u001b[0m\u001b[0;34m\u001b[0m\u001b[0;34m\u001b[0m\u001b[0m\n\u001b[1;32m    150\u001b[0m             return super(_ReusablePoolExecutor, self).submit(\n\u001b[0;32m--> 151\u001b[0;31m                 fn, *args, **kwargs)\n\u001b[0m\u001b[1;32m    152\u001b[0m \u001b[0;34m\u001b[0m\u001b[0m\n\u001b[1;32m    153\u001b[0m     \u001b[0;32mdef\u001b[0m \u001b[0m_resize\u001b[0m\u001b[0;34m(\u001b[0m\u001b[0mself\u001b[0m\u001b[0;34m,\u001b[0m \u001b[0mmax_workers\u001b[0m\u001b[0;34m)\u001b[0m\u001b[0;34m:\u001b[0m\u001b[0;34m\u001b[0m\u001b[0;34m\u001b[0m\u001b[0m\n",
      "\u001b[0;32m~/python3_environments/ds19_project/lib/python3.6/site-packages/sklearn/externals/joblib/externals/loky/process_executor.py\u001b[0m in \u001b[0;36msubmit\u001b[0;34m(self, fn, *args, **kwargs)\u001b[0m\n\u001b[1;32m   1020\u001b[0m         \u001b[0;32mwith\u001b[0m \u001b[0mself\u001b[0m\u001b[0;34m.\u001b[0m\u001b[0m_flags\u001b[0m\u001b[0;34m.\u001b[0m\u001b[0mshutdown_lock\u001b[0m\u001b[0;34m:\u001b[0m\u001b[0;34m\u001b[0m\u001b[0;34m\u001b[0m\u001b[0m\n\u001b[1;32m   1021\u001b[0m             \u001b[0;32mif\u001b[0m \u001b[0mself\u001b[0m\u001b[0;34m.\u001b[0m\u001b[0m_flags\u001b[0m\u001b[0;34m.\u001b[0m\u001b[0mbroken\u001b[0m \u001b[0;32mis\u001b[0m \u001b[0;32mnot\u001b[0m \u001b[0;32mNone\u001b[0m\u001b[0;34m:\u001b[0m\u001b[0;34m\u001b[0m\u001b[0;34m\u001b[0m\u001b[0m\n\u001b[0;32m-> 1022\u001b[0;31m                 \u001b[0;32mraise\u001b[0m \u001b[0mself\u001b[0m\u001b[0;34m.\u001b[0m\u001b[0m_flags\u001b[0m\u001b[0;34m.\u001b[0m\u001b[0mbroken\u001b[0m\u001b[0;34m\u001b[0m\u001b[0;34m\u001b[0m\u001b[0m\n\u001b[0m\u001b[1;32m   1023\u001b[0m             \u001b[0;32mif\u001b[0m \u001b[0mself\u001b[0m\u001b[0;34m.\u001b[0m\u001b[0m_flags\u001b[0m\u001b[0;34m.\u001b[0m\u001b[0mshutdown\u001b[0m\u001b[0;34m:\u001b[0m\u001b[0;34m\u001b[0m\u001b[0;34m\u001b[0m\u001b[0m\n\u001b[1;32m   1024\u001b[0m                 raise ShutdownExecutorError(\n",
      "\u001b[0;31mTerminatedWorkerError\u001b[0m: A worker process managed by the executor was unexpectedly terminated. This could be caused by a segmentation fault while calling the function or by an excessive memory usage causing the Operating System to kill the worker. The exit codes of the workers are {SIGKILL(-9)}"
     ]
    }
   ],
   "source": [
    "dropout_rate = np.arange(0, .6, .2)\n",
    "epochs=[10]\n",
    "batch_size = [1000]\n",
    "# weight_constraint = [1, 2, 3, 4, 5]\n",
    "momentum = np.arange(.1, .6, .1)\n",
    "learning_rate = np.arange(.03, .05,  .005)\n",
    "# Help from machinelearningmastery  article on How to grid search... by Jason Brownlee for these parameters\n",
    "# optimizer = ['SGD', 'RMSprop', 'Adagrad', 'Adadelta', 'Adam', 'Adamax', 'Nadam']\n",
    "activation = ['softmax', 'softplus', 'softsign', 'relu', 'tanh', 'linear']\n",
    "init_mode = ['uniform', 'lecun_uniform', 'normal', 'zero']\n",
    "\n",
    "# optimizer = ['adadelta']\n",
    "# activation = ['softmax']\n",
    "# init_mode=['uniform']\n",
    "param_grid = dict(#optimizer=optimizer, \n",
    "#                   dropout_rate=dropout_rate, \n",
    "                  epochs=epochs, \n",
    "                  momentum=momentum,\n",
    "                  batch_size=batch_size, \n",
    "#                   weight_constraint=weight_constraint, \n",
    "                  learning_rate=learning_rate,\n",
    "                  activation = activation,\n",
    "                  init_mode = init_mode\n",
    "                 )\n",
    "grid = GridSearchCV(estimator=model, param_grid=param_grid, cv = 3, n_jobs=6, scoring='neg_mean_squared_error', verbose=1)\n",
    "grid_result = grid.fit(X_train.values, y_train.values)"
   ]
  },
  {
   "cell_type": "code",
   "execution_count": null,
   "metadata": {},
   "outputs": [],
   "source": [
    "print(grid_result.best_params_)"
   ]
  },
  {
   "cell_type": "code",
   "execution_count": 13,
   "metadata": {},
   "outputs": [
    {
     "name": "stdout",
     "output_type": "stream",
     "text": [
      "Epoch 1/100\n",
      "7164/7164 [==============================] - 0s 69us/step - loss: 1480957.2203 - acc: 5.5835e-04\n",
      "Epoch 2/100\n",
      "7164/7164 [==============================] - 0s 28us/step - loss: 305340.7060 - acc: 8.3752e-04\n",
      "Epoch 3/100\n",
      "7164/7164 [==============================] - 0s 29us/step - loss: 22504.3161 - acc: 0.0121\n",
      "Epoch 4/100\n",
      "7164/7164 [==============================] - 0s 28us/step - loss: 463.8593 - acc: 0.0195\n",
      "Epoch 5/100\n",
      "7164/7164 [==============================] - 0s 29us/step - loss: 428.3863 - acc: 0.0225\n",
      "Epoch 6/100\n",
      "7164/7164 [==============================] - 0s 27us/step - loss: 402.7036 - acc: 0.0186\n",
      "Epoch 7/100\n",
      "7164/7164 [==============================] - 0s 28us/step - loss: 368.6720 - acc: 0.0218\n",
      "Epoch 8/100\n",
      "7164/7164 [==============================] - 0s 27us/step - loss: 330.3902 - acc: 0.0222\n",
      "Epoch 9/100\n",
      "7164/7164 [==============================] - 0s 31us/step - loss: 289.1745 - acc: 0.0255\n",
      "Epoch 10/100\n",
      "7164/7164 [==============================] - 0s 29us/step - loss: 271.5680 - acc: 0.0299\n",
      "Epoch 11/100\n",
      "7164/7164 [==============================] - 0s 27us/step - loss: 270.8794 - acc: 0.0255\n",
      "Epoch 12/100\n",
      "7164/7164 [==============================] - 0s 28us/step - loss: 253.6158 - acc: 0.0289\n",
      "Epoch 13/100\n",
      "7164/7164 [==============================] - 0s 28us/step - loss: 239.1447 - acc: 0.0255\n",
      "Epoch 14/100\n",
      "7164/7164 [==============================] - 0s 30us/step - loss: 217.2698 - acc: 0.0285\n",
      "Epoch 15/100\n",
      "7164/7164 [==============================] - 0s 29us/step - loss: 218.0933 - acc: 0.0311\n",
      "Epoch 16/100\n",
      "7164/7164 [==============================] - 0s 29us/step - loss: 205.7207 - acc: 0.0282\n",
      "Epoch 17/100\n",
      "7164/7164 [==============================] - 0s 28us/step - loss: 242.6187 - acc: 0.0274\n",
      "Epoch 18/100\n",
      "7164/7164 [==============================] - 0s 34us/step - loss: 228.4511 - acc: 0.0324\n",
      "Epoch 19/100\n",
      "7164/7164 [==============================] - 0s 28us/step - loss: 219.9063 - acc: 0.0295\n",
      "Epoch 20/100\n",
      "7164/7164 [==============================] - 0s 29us/step - loss: 230.2655 - acc: 0.0307\n",
      "Epoch 21/100\n",
      "7164/7164 [==============================] - 0s 28us/step - loss: 214.5234 - acc: 0.0300\n",
      "Epoch 22/100\n",
      "7164/7164 [==============================] - 0s 30us/step - loss: 238.2992 - acc: 0.0258\n",
      "Epoch 23/100\n",
      "7164/7164 [==============================] - 0s 27us/step - loss: 273.1372 - acc: 0.0314\n",
      "Epoch 24/100\n",
      "7164/7164 [==============================] - 0s 29us/step - loss: 286.6384 - acc: 0.0225\n",
      "Epoch 25/100\n",
      "7164/7164 [==============================] - 0s 30us/step - loss: 233.1019 - acc: 0.0276\n",
      "Epoch 26/100\n",
      "7164/7164 [==============================] - 0s 27us/step - loss: 256.4838 - acc: 0.0274\n",
      "Epoch 27/100\n",
      "7164/7164 [==============================] - 0s 27us/step - loss: 243.3166 - acc: 0.0281\n",
      "Epoch 28/100\n",
      "7164/7164 [==============================] - 0s 27us/step - loss: 258.5243 - acc: 0.0283\n",
      "Epoch 29/100\n",
      "7164/7164 [==============================] - 0s 28us/step - loss: 316.6385 - acc: 0.0225\n",
      "Epoch 30/100\n",
      "7164/7164 [==============================] - 0s 28us/step - loss: 307.2703 - acc: 0.0251\n",
      "Epoch 31/100\n",
      "7164/7164 [==============================] - 0s 28us/step - loss: 208.6753 - acc: 0.0278\n",
      "Epoch 32/100\n",
      "7164/7164 [==============================] - 0s 30us/step - loss: 222.6115 - acc: 0.0267\n",
      "Epoch 33/100\n",
      "7164/7164 [==============================] - 0s 29us/step - loss: 219.8269 - acc: 0.0269\n",
      "Epoch 34/100\n",
      "7164/7164 [==============================] - 0s 32us/step - loss: 348.1429 - acc: 0.0246\n",
      "Epoch 35/100\n",
      "7164/7164 [==============================] - 0s 31us/step - loss: 319.7108 - acc: 0.0255\n",
      "Epoch 36/100\n",
      "7164/7164 [==============================] - 0s 28us/step - loss: 275.3049 - acc: 0.0244\n",
      "Epoch 37/100\n",
      "7164/7164 [==============================] - 0s 33us/step - loss: 272.1887 - acc: 0.0265\n",
      "Epoch 38/100\n",
      "7164/7164 [==============================] - 0s 28us/step - loss: 228.8766 - acc: 0.0292\n",
      "Epoch 39/100\n",
      "7164/7164 [==============================] - 0s 30us/step - loss: 277.8656 - acc: 0.0268\n",
      "Epoch 40/100\n",
      "7164/7164 [==============================] - 0s 25us/step - loss: 364.5868 - acc: 0.0233\n",
      "Epoch 41/100\n",
      "7164/7164 [==============================] - 0s 26us/step - loss: 235.5850 - acc: 0.0310\n",
      "Epoch 42/100\n",
      "7164/7164 [==============================] - 0s 28us/step - loss: 395.4448 - acc: 0.0180\n",
      "Epoch 43/100\n",
      "7164/7164 [==============================] - 0s 30us/step - loss: 282.5790 - acc: 0.0246\n",
      "Epoch 44/100\n",
      "7164/7164 [==============================] - 0s 31us/step - loss: 218.1578 - acc: 0.0338\n",
      "Epoch 45/100\n",
      "7164/7164 [==============================] - 0s 30us/step - loss: 295.6778 - acc: 0.0269\n",
      "Epoch 46/100\n",
      "7164/7164 [==============================] - 0s 28us/step - loss: 221.9630 - acc: 0.0297\n",
      "Epoch 47/100\n",
      "7164/7164 [==============================] - 0s 28us/step - loss: 285.4408 - acc: 0.0264\n",
      "Epoch 48/100\n",
      "7164/7164 [==============================] - 0s 29us/step - loss: 233.9212 - acc: 0.0289\n",
      "Epoch 49/100\n",
      "7164/7164 [==============================] - 0s 30us/step - loss: 299.6268 - acc: 0.0247\n",
      "Epoch 50/100\n",
      "7164/7164 [==============================] - 0s 27us/step - loss: 248.0153 - acc: 0.0282\n",
      "Epoch 51/100\n",
      "7164/7164 [==============================] - 0s 28us/step - loss: 340.1145 - acc: 0.0233\n",
      "Epoch 52/100\n",
      "7164/7164 [==============================] - 0s 32us/step - loss: 340.3491 - acc: 0.0202\n",
      "Epoch 53/100\n",
      "7164/7164 [==============================] - 0s 33us/step - loss: 365.0109 - acc: 0.0225\n",
      "Epoch 54/100\n",
      "7164/7164 [==============================] - 0s 29us/step - loss: 211.5080 - acc: 0.0300\n",
      "Epoch 55/100\n",
      "7164/7164 [==============================] - 0s 29us/step - loss: 288.9982 - acc: 0.0223\n",
      "Epoch 56/100\n",
      "7164/7164 [==============================] - 0s 28us/step - loss: 247.5346 - acc: 0.0278\n",
      "Epoch 57/100\n",
      "7164/7164 [==============================] - 0s 37us/step - loss: 349.8512 - acc: 0.0246\n",
      "Epoch 58/100\n",
      "7164/7164 [==============================] - 0s 41us/step - loss: 308.7488 - acc: 0.0267\n",
      "Epoch 59/100\n",
      "7164/7164 [==============================] - 0s 32us/step - loss: 315.1592 - acc: 0.0272\n",
      "Epoch 60/100\n",
      "7164/7164 [==============================] - 0s 31us/step - loss: 239.3081 - acc: 0.0317\n",
      "Epoch 61/100\n",
      "7164/7164 [==============================] - 0s 31us/step - loss: 262.7286 - acc: 0.0239\n",
      "Epoch 62/100\n",
      "7164/7164 [==============================] - 0s 31us/step - loss: 237.4098 - acc: 0.0276\n",
      "Epoch 63/100\n",
      "7164/7164 [==============================] - 0s 28us/step - loss: 307.9713 - acc: 0.0262\n",
      "Epoch 64/100\n",
      "7164/7164 [==============================] - 0s 30us/step - loss: 368.1436 - acc: 0.0237\n",
      "Epoch 65/100\n",
      "7164/7164 [==============================] - 0s 34us/step - loss: 274.5422 - acc: 0.0251\n",
      "Epoch 66/100\n",
      "7164/7164 [==============================] - 0s 29us/step - loss: 289.7778 - acc: 0.0265\n",
      "Epoch 67/100\n",
      "7164/7164 [==============================] - 0s 29us/step - loss: 218.3029 - acc: 0.0276\n",
      "Epoch 68/100\n",
      "7164/7164 [==============================] - 0s 27us/step - loss: 263.7357 - acc: 0.0271\n",
      "Epoch 69/100\n",
      "7164/7164 [==============================] - 0s 29us/step - loss: 273.3489 - acc: 0.0295\n",
      "Epoch 70/100\n",
      "7164/7164 [==============================] - 0s 28us/step - loss: 275.1919 - acc: 0.0275\n",
      "Epoch 71/100\n",
      "7164/7164 [==============================] - 0s 28us/step - loss: 265.9475 - acc: 0.0230\n",
      "Epoch 72/100\n",
      "7164/7164 [==============================] - 0s 32us/step - loss: 277.4028 - acc: 0.0257\n",
      "Epoch 73/100\n",
      "7164/7164 [==============================] - 0s 28us/step - loss: 306.1432 - acc: 0.0208\n",
      "Epoch 74/100\n",
      "7164/7164 [==============================] - 0s 28us/step - loss: 306.0599 - acc: 0.0225\n",
      "Epoch 75/100\n",
      "7164/7164 [==============================] - 0s 27us/step - loss: 273.5621 - acc: 0.0269\n",
      "Epoch 76/100\n",
      "7164/7164 [==============================] - 0s 28us/step - loss: 264.5966 - acc: 0.0308\n",
      "Epoch 77/100\n",
      "7164/7164 [==============================] - 0s 28us/step - loss: 269.2484 - acc: 0.0248\n",
      "Epoch 78/100\n",
      "7164/7164 [==============================] - 0s 28us/step - loss: 289.7552 - acc: 0.0223\n",
      "Epoch 79/100\n",
      "7164/7164 [==============================] - 0s 26us/step - loss: 244.2365 - acc: 0.0279\n",
      "Epoch 80/100\n",
      "7164/7164 [==============================] - 0s 26us/step - loss: 310.5319 - acc: 0.0276\n",
      "Epoch 81/100\n",
      "7164/7164 [==============================] - 0s 25us/step - loss: 244.0435 - acc: 0.0255\n",
      "Epoch 82/100\n",
      "7164/7164 [==============================] - 0s 27us/step - loss: 217.9249 - acc: 0.0300\n",
      "Epoch 83/100\n",
      "7164/7164 [==============================] - 0s 26us/step - loss: 214.5748 - acc: 0.0317\n",
      "Epoch 84/100\n",
      "7164/7164 [==============================] - 0s 26us/step - loss: 232.9412 - acc: 0.0286\n",
      "Epoch 85/100\n",
      "7164/7164 [==============================] - 0s 26us/step - loss: 262.5747 - acc: 0.0253\n",
      "Epoch 86/100\n",
      "7164/7164 [==============================] - 0s 27us/step - loss: 423.9954 - acc: 0.0244\n",
      "Epoch 87/100\n",
      "7164/7164 [==============================] - 0s 26us/step - loss: 236.6776 - acc: 0.0281\n",
      "Epoch 88/100\n",
      "7164/7164 [==============================] - 0s 26us/step - loss: 269.2975 - acc: 0.0250\n",
      "Epoch 89/100\n",
      "7164/7164 [==============================] - 0s 26us/step - loss: 260.9972 - acc: 0.0257\n",
      "Epoch 90/100\n",
      "7164/7164 [==============================] - 0s 26us/step - loss: 254.1161 - acc: 0.0271\n",
      "Epoch 91/100\n",
      "7164/7164 [==============================] - 0s 26us/step - loss: 244.9229 - acc: 0.0262\n",
      "Epoch 92/100\n",
      "7164/7164 [==============================] - 0s 27us/step - loss: 322.6403 - acc: 0.0244\n",
      "Epoch 93/100\n",
      "7164/7164 [==============================] - 0s 28us/step - loss: 272.5241 - acc: 0.0296\n",
      "Epoch 94/100\n",
      "7164/7164 [==============================] - 0s 25us/step - loss: 273.2461 - acc: 0.0271\n",
      "Epoch 95/100\n",
      "7164/7164 [==============================] - 0s 26us/step - loss: 262.8635 - acc: 0.0269\n",
      "Epoch 96/100\n",
      "7164/7164 [==============================] - 0s 26us/step - loss: 246.8941 - acc: 0.0248\n",
      "Epoch 97/100\n",
      "7164/7164 [==============================] - 0s 26us/step - loss: 262.2079 - acc: 0.0272\n",
      "Epoch 98/100\n",
      "7164/7164 [==============================] - 0s 26us/step - loss: 357.2535 - acc: 0.0216\n",
      "Epoch 99/100\n",
      "7164/7164 [==============================] - 0s 26us/step - loss: 198.3772 - acc: 0.0315\n",
      "Epoch 100/100\n",
      "7164/7164 [==============================] - 0s 27us/step - loss: 321.6741 - acc: 0.0253\n",
      "2044.5215\n",
      "1964.861\n"
     ]
    }
   ],
   "source": [
    "model = create_model()\n",
    "model.fit(X_train.values, y_train.values, epochs=100, batch_size=40)\n",
    "output = model.predict(X_test.values)\n",
    "print(output.max())\n",
    "print(output.min())"
   ]
  },
  {
   "cell_type": "raw",
   "metadata": {},
   "source": [
    "print(y_test.min(axis=0))\n",
    "print(y_test.max(axis=0))\n",
    "\n",
    "print(y_train.min(axis=0))\n",
    "print(y_train.max(axis=0))\n",
    "# Find max categories\n",
    "ran = max(y_train.max(axis=0)[0], y_test.max(axis=0)[0]) - min(y_test.min(axis=0)[0], y_train.min(axis=0)[0])\n",
    "ran = ran/10 + 1\n",
    "\n",
    "y_train_array = []\n",
    "for item in y_train.values:\n",
    "    y_train_array.append(item[0])\n",
    "y_test_array = []\n",
    "for item in y_test.values:\n",
    "    y_test_array.append(item[0])\n",
    "    \n",
    "y_train_array = np.array(y_train_array)\n",
    "y_test_array = np.array(y_test_array)"
   ]
  },
  {
   "cell_type": "code",
   "execution_count": 371,
   "metadata": {},
   "outputs": [],
   "source": [
    "# One hot encoding\n",
    "encoder = LabelEncoder()\n",
    "encoder.fit(y_train_array)\n",
    "encoded_Y = encoder.transform(y_train_array)\n",
    "dummy_y_train = np_utils.to_categorical(encoded_Y)\n",
    "\n",
    "encoded_Y = encoder.transform(y_test_array)\n",
    "dummy_y_test = np_utils.to_categorical(encoded_Y)"
   ]
  },
  {
   "cell_type": "code",
   "execution_count": 366,
   "metadata": {},
   "outputs": [],
   "source": []
  },
  {
   "cell_type": "code",
   "execution_count": 367,
   "metadata": {},
   "outputs": [],
   "source": []
  },
  {
   "cell_type": "code",
   "execution_count": 170,
   "metadata": {},
   "outputs": [
    {
     "name": "stdout",
     "output_type": "stream",
     "text": [
      "1791/1791 [==============================] - 0s 25us/step\n",
      "[52201.31471594082, 0.0005583472920156337]\n",
      "['loss', 'acc']\n"
     ]
    }
   ],
   "source": [
    "score = model.evaluate(X_test.values, y_test.values)\n",
    "print(score)\n",
    "print(model.metrics_names)"
   ]
  },
  {
   "cell_type": "code",
   "execution_count": null,
   "metadata": {},
   "outputs": [],
   "source": []
  }
 ],
 "metadata": {
  "kernelspec": {
   "display_name": "ds19_project",
   "language": "python",
   "name": "ds19_project"
  },
  "language_info": {
   "codemirror_mode": {
    "name": "ipython",
    "version": 3
   },
   "file_extension": ".py",
   "mimetype": "text/x-python",
   "name": "python",
   "nbconvert_exporter": "python",
   "pygments_lexer": "ipython3",
   "version": "3.6.7"
  }
 },
 "nbformat": 4,
 "nbformat_minor": 2
}
