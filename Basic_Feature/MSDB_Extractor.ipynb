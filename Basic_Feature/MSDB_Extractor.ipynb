{
 "cells": [
  {
   "cell_type": "code",
   "execution_count": 30,
   "metadata": {},
   "outputs": [],
   "source": [
    "import hdf5_getters \n",
    "import hdf5_descriptors as dsp\n",
    "import hdf5_utils as utils\n",
    "import h5py\n",
    "import pandas as pd\n",
    "import numpy as np\n",
    "import glob\n",
    "import os"
   ]
  },
  {
   "cell_type": "code",
   "execution_count": 31,
   "metadata": {},
   "outputs": [],
   "source": [
    "def apply_to_all_files(basedir, func=lambda x: x, ext='h5'):\n",
    "    \"\"\"\n",
    "    Go through all subdirectories starting from base directory\n",
    "    Apply func to all the files \n",
    "    \"\"\"\n",
    "    count = 0\n",
    "    for root, dirs, files in os.walk(basedir):\n",
    "        files = glob.glob(os.path.join(root, '*'+ext))\n",
    "        for f in files : \n",
    "            func(f, count)\n",
    "            count +=1\n",
    "        "
   ]
  },
  {
   "cell_type": "code",
   "execution_count": 32,
   "metadata": {},
   "outputs": [
    {
     "name": "stdout",
     "output_type": "stream",
     "text": [
      "['artist_familiarity', 'artist_hotttnesss', 'artist_id', 'artist_mbid', 'artist_playmeid', 'artist_7digitalid', 'artist_latitude', 'artist_longitude', 'artist_location', 'artist_name', 'release', 'release_7digitalid', 'song_id', 'song_hotttnesss', 'title', 'track_7digitalid', 'similar_artists', 'artist_terms', 'artist_terms_freq', 'artist_terms_weight', 'analysis_sample_rate', 'audio_md5', 'danceability', 'duration', 'end_of_fade_in', 'energy', 'key', 'key_confidence', 'loudness', 'mode', 'mode_confidence', 'start_of_fade_out', 'tempo', 'time_signature', 'time_signature_confidence', 'track_id', 'segments_start', 'segments_confidence', 'segments_pitches', 'segments_timbre', 'segments_loudness_max', 'segments_loudness_max_time', 'segments_loudness_start', 'sections_start', 'sections_confidence', 'beats_start', 'beats_confidence', 'bars_start', 'bars_confidence', 'tatums_start', 'tatums_confidence', 'artist_mbtags', 'artist_mbtags_count', 'year']\n"
     ]
    }
   ],
   "source": [
    "#get the column names\n",
    "col = []\n",
    "# get all getters\n",
    "getters = filter(lambda x: x[:4] == 'get_' and x[4:]!='num_songs', hdf5_getters.__dict__.keys())\n",
    "\n",
    "# get the feature names\n",
    "for getter in getters:\n",
    "        col.append(getter[4:])   \n",
    "        \n",
    "print(col)"
   ]
  },
  {
   "cell_type": "code",
   "execution_count": 33,
   "metadata": {},
   "outputs": [],
   "source": [
    "song_db = pd.DataFrame(columns=col);\n",
    "\n",
    "def get_all_data(filename, index):\n",
    "    individual_row = []\n",
    "    h5=hdf5_getters.open_h5_file_read(filename)\n",
    "    getters = filter(lambda x: x[:4] == 'get_' and x[4:]!='num_songs', hdf5_getters.__dict__.keys())\n",
    "\n",
    "    # get the feature values\n",
    "    for getter in getters:\n",
    "        res = hdf5_getters.__getattribute__(getter)(h5)\n",
    "        if(getter == 'get_artist_terms' or getter == 'get_similar_artists'):\n",
    "            res = res.astype(str) \n",
    "        individual_row.append(res);\n",
    "    song_db.loc[index] = individual_row\n",
    "    h5.close()"
   ]
  },
  {
   "cell_type": "code",
   "execution_count": 35,
   "metadata": {},
   "outputs": [
    {
     "name": "stdout",
     "output_type": "stream",
     "text": [
      "Series([], Name: artist_mbtags, dtype: object)\n"
     ]
    }
   ],
   "source": [
    "print(song_db.artist_mbtags)"
   ]
  },
  {
   "cell_type": "code",
   "execution_count": 28,
   "metadata": {},
   "outputs": [],
   "source": [
    "database_path = './MillionSongSubset/data/'\n",
    "apply_to_all_files(database_path, func = get_all_data)"
   ]
  },
  {
   "cell_type": "code",
   "execution_count": 29,
   "metadata": {},
   "outputs": [],
   "source": [
    "song_db.to_csv('MillionSongDB.csv', index=False)"
   ]
  },
  {
   "cell_type": "code",
   "execution_count": null,
   "metadata": {},
   "outputs": [],
   "source": []
  }
 ],
 "metadata": {
  "kernelspec": {
   "display_name": "Python 3",
   "language": "python",
   "name": "python3"
  },
  "language_info": {
   "codemirror_mode": {
    "name": "ipython",
    "version": 3
   },
   "file_extension": ".py",
   "mimetype": "text/x-python",
   "name": "python",
   "nbconvert_exporter": "python",
   "pygments_lexer": "ipython3",
   "version": "3.5.2"
  }
 },
 "nbformat": 4,
 "nbformat_minor": 2
}
