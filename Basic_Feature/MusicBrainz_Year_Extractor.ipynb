{
 "cells": [
  {
   "cell_type": "code",
   "execution_count": 23,
   "metadata": {},
   "outputs": [],
   "source": [
    "import numpy as np # linear algebra\n",
    "import pandas as pd # data processing, CSV file I/O (e.g. pd.read_csv)\n",
    "import musicbrainzngs as mb\n",
    "from tqdm import tqdm_notebook as tqdm"
   ]
  },
  {
   "cell_type": "code",
   "execution_count": 24,
   "metadata": {},
   "outputs": [],
   "source": [
    "train = pd.read_csv('./MusicRerunDBMBDC.csv')"
   ]
  },
  {
   "cell_type": "code",
   "execution_count": 25,
   "metadata": {},
   "outputs": [
    {
     "name": "stdout",
     "output_type": "stream",
     "text": [
      "0          1994\n",
      "1          1969\n",
      "2          2007\n",
      "3          1982\n",
      "4          2007\n",
      "5           0.0\n",
      "6        2003.0\n",
      "7        2003.0\n",
      "8          1984\n",
      "9        2008.0\n",
      "10       2000.0\n",
      "11         1998\n",
      "12       1981.0\n",
      "13          0.0\n",
      "14         1986\n",
      "15         1987\n",
      "16       1989.0\n",
      "17          0.0\n",
      "18         2004\n",
      "19          0.0\n",
      "20         1998\n",
      "21       2002.0\n",
      "22          NaN\n",
      "23         2004\n",
      "24         1985\n",
      "25         2005\n",
      "26       2008.0\n",
      "27         2005\n",
      "28         1997\n",
      "29         1961\n",
      "          ...  \n",
      "9972     1996.0\n",
      "9973     2014.0\n",
      "9974       2003\n",
      "9975       1967\n",
      "9976       2005\n",
      "9977     2010.0\n",
      "9978       2003\n",
      "9979     2005.0\n",
      "9980       2003\n",
      "9981       2009\n",
      "9982       2000\n",
      "9983       1996\n",
      "9984       1978\n",
      "9985     1994.0\n",
      "9986        0.0\n",
      "9987     2005.0\n",
      "9988       2006\n",
      "9989       2006\n",
      "9990     2000.0\n",
      "9991       1996\n",
      "9992        0.0\n",
      "9993       1959\n",
      "9994       1989\n",
      "9995       1998\n",
      "9996       1998\n",
      "9997       2002\n",
      "9998     1991.0\n",
      "9999       2005\n",
      "10000       NaN\n",
      "10001       356\n",
      "Name: year, Length: 10002, dtype: object\n"
     ]
    }
   ],
   "source": [
    "song_title = train.title\n",
    "song_artist = train.artist_name\n",
    "print(train.year)"
   ]
  },
  {
   "cell_type": "code",
   "execution_count": 26,
   "metadata": {},
   "outputs": [],
   "source": [
    "mb.set_useragent(\n",
    "\n",
    ")"
   ]
  },
  {
   "cell_type": "code",
   "execution_count": 27,
   "metadata": {},
   "outputs": [],
   "source": [
    "# relation_type = None\n",
    "# oldest_release = {'year': None}\n",
    "# (oldest_release, relation_type) = _recurse_relations(train.track_id[0], oldest_release, relation_type)\n",
    "\n",
    "def get_year(title, artist_name):\n",
    "    year_release = []\n",
    "    print(u\"Song: {song_title}, Artist: {artist}\".format(song_title = title, artist = artist_name))\n",
    "    result = mb.search_recordings(title, limit='30')\n",
    "    for song in result['recording-list']:\n",
    "        artist_info = song['artist-credit']\n",
    "        for artist in artist_info:\n",
    "            if(len(artist) == 1 and artist != \"x\"):\n",
    "                try:\n",
    "                    if(artist['artist']['name']  in artist_name):\n",
    "                        try:\n",
    "                            song_year = song['release-list'][0]['date'] \n",
    "                        except:\n",
    "                            continue\n",
    "                        year = song_year.split('-')[0]\n",
    "                        if(year == ''):\n",
    "                            continue\n",
    "                        year_release.append(int(year))\n",
    "                except:\n",
    "                    continue\n",
    "                    \n",
    "                    \n",
    "    return(year_release)\n",
    "                    \n",
    "    #print(u\"{id}: {name}, artist = {artist}\".format(id=song['id'], name=song[\"title\"], artist=song[\"artist-credit\"]))\n",
    "\n"
   ]
  },
  {
   "cell_type": "code",
   "execution_count": 28,
   "metadata": {},
   "outputs": [],
   "source": [
    "def remove_dumb(song_name):\n",
    "    fixed_song = str(song_name)\n",
    "    index = fixed_song.find('(')\n",
    "    if(index != -1):\n",
    "        fixed_song = fixed_song[0:index]\n",
    "    fixed_song = fixed_song.replace('(', '')\n",
    "    fixed_song = fixed_song.replace(')', '')\n",
    "    fixed_song = fixed_song.replace('Version ', '')\n",
    "    fixed_song = fixed_song.replace('Album ', '')\n",
    "    fixed_song = fixed_song.replace('LP ', '')\n",
    "    fixed_song = fixed_song.replace('featuring ', '')\n",
    "    fixed_song = fixed_song.replace('mix', '')\n",
    "    fixed_song = fixed_song.replace('and ', '')\n",
    "    fixed_song = fixed_song.replace('And ', '')\n",
    "    fixed_song = fixed_song.replace('& ', '')\n",
    "    return fixed_song"
   ]
  },
  {
   "cell_type": "code",
   "execution_count": 29,
   "metadata": {},
   "outputs": [
    {
     "data": {
      "application/vnd.jupyter.widget-view+json": {
       "model_id": "4e6cf64582044f27914fc60fc7ead08c",
       "version_major": 2,
       "version_minor": 0
      },
      "text/plain": [
       "HBox(children=(IntProgress(value=0, max=10000), HTML(value='')))"
      ]
     },
     "metadata": {},
     "output_type": "display_data"
    },
    {
     "name": "stdout",
     "output_type": "stream",
     "text": [
      "Song: The Moon I , Artist: Jeff Sheri Easter\n"
     ]
    },
    {
     "ename": "KeyboardInterrupt",
     "evalue": "",
     "output_type": "error",
     "traceback": [
      "\u001b[0;31m---------------------------------------------------------------------------\u001b[0m",
      "\u001b[0;31mKeyboardInterrupt\u001b[0m                         Traceback (most recent call last)",
      "\u001b[0;32m<ipython-input-29-0aa4ea8d14ac>\u001b[0m in \u001b[0;36m<module>\u001b[0;34m\u001b[0m\n\u001b[1;32m      2\u001b[0m     \u001b[0;32mif\u001b[0m \u001b[0;34m(\u001b[0m\u001b[0mtrain\u001b[0m\u001b[0;34m.\u001b[0m\u001b[0myear\u001b[0m\u001b[0;34m[\u001b[0m\u001b[0mx\u001b[0m\u001b[0;34m]\u001b[0m \u001b[0;34m==\u001b[0m \u001b[0;34m'0.0'\u001b[0m \u001b[0;32mor\u001b[0m \u001b[0mtrain\u001b[0m\u001b[0;34m.\u001b[0m\u001b[0myear\u001b[0m\u001b[0;34m[\u001b[0m\u001b[0mx\u001b[0m\u001b[0;34m]\u001b[0m \u001b[0;34m==\u001b[0m \u001b[0;34m'NaN'\u001b[0m\u001b[0;34m)\u001b[0m\u001b[0;34m:\u001b[0m\u001b[0;34m\u001b[0m\u001b[0m\n\u001b[1;32m      3\u001b[0m \u001b[0;31m#         print(\"testing\")\u001b[0m\u001b[0;34m\u001b[0m\u001b[0;34m\u001b[0m\u001b[0m\n\u001b[0;32m----> 4\u001b[0;31m         \u001b[0mrelease\u001b[0m \u001b[0;34m=\u001b[0m \u001b[0mget_year\u001b[0m\u001b[0;34m(\u001b[0m\u001b[0mremove_dumb\u001b[0m\u001b[0;34m(\u001b[0m\u001b[0mtrain\u001b[0m\u001b[0;34m.\u001b[0m\u001b[0mtitle\u001b[0m\u001b[0;34m[\u001b[0m\u001b[0mx\u001b[0m\u001b[0;34m]\u001b[0m\u001b[0;34m)\u001b[0m\u001b[0;34m,\u001b[0m \u001b[0mremove_dumb\u001b[0m\u001b[0;34m(\u001b[0m\u001b[0mtrain\u001b[0m\u001b[0;34m.\u001b[0m\u001b[0martist_name\u001b[0m\u001b[0;34m[\u001b[0m\u001b[0mx\u001b[0m\u001b[0;34m]\u001b[0m\u001b[0;34m)\u001b[0m\u001b[0;34m)\u001b[0m\u001b[0;34m\u001b[0m\u001b[0m\n\u001b[0m\u001b[1;32m      5\u001b[0m         \u001b[0;32mif\u001b[0m\u001b[0;34m(\u001b[0m\u001b[0mlen\u001b[0m\u001b[0;34m(\u001b[0m\u001b[0mrelease\u001b[0m\u001b[0;34m)\u001b[0m \u001b[0;34m>\u001b[0m \u001b[0;36m0\u001b[0m\u001b[0;34m)\u001b[0m\u001b[0;34m:\u001b[0m\u001b[0;34m\u001b[0m\u001b[0m\n\u001b[1;32m      6\u001b[0m             \u001b[0mprint\u001b[0m\u001b[0;34m(\u001b[0m\u001b[0mmin\u001b[0m\u001b[0;34m(\u001b[0m\u001b[0mrelease\u001b[0m\u001b[0;34m)\u001b[0m\u001b[0;34m)\u001b[0m\u001b[0;34m\u001b[0m\u001b[0m\n",
      "\u001b[0;32m<ipython-input-27-21623d1f89ae>\u001b[0m in \u001b[0;36mget_year\u001b[0;34m(title, artist_name)\u001b[0m\n\u001b[1;32m      6\u001b[0m     \u001b[0myear_release\u001b[0m \u001b[0;34m=\u001b[0m \u001b[0;34m[\u001b[0m\u001b[0;34m]\u001b[0m\u001b[0;34m\u001b[0m\u001b[0m\n\u001b[1;32m      7\u001b[0m     \u001b[0mprint\u001b[0m\u001b[0;34m(\u001b[0m\u001b[0;34mu\"Song: {song_title}, Artist: {artist}\"\u001b[0m\u001b[0;34m.\u001b[0m\u001b[0mformat\u001b[0m\u001b[0;34m(\u001b[0m\u001b[0msong_title\u001b[0m \u001b[0;34m=\u001b[0m \u001b[0mtitle\u001b[0m\u001b[0;34m,\u001b[0m \u001b[0martist\u001b[0m \u001b[0;34m=\u001b[0m \u001b[0martist_name\u001b[0m\u001b[0;34m)\u001b[0m\u001b[0;34m)\u001b[0m\u001b[0;34m\u001b[0m\u001b[0m\n\u001b[0;32m----> 8\u001b[0;31m     \u001b[0mresult\u001b[0m \u001b[0;34m=\u001b[0m \u001b[0mmb\u001b[0m\u001b[0;34m.\u001b[0m\u001b[0msearch_recordings\u001b[0m\u001b[0;34m(\u001b[0m\u001b[0mtitle\u001b[0m\u001b[0;34m,\u001b[0m \u001b[0mlimit\u001b[0m\u001b[0;34m=\u001b[0m\u001b[0;34m'30'\u001b[0m\u001b[0;34m)\u001b[0m\u001b[0;34m\u001b[0m\u001b[0m\n\u001b[0m\u001b[1;32m      9\u001b[0m     \u001b[0;32mfor\u001b[0m \u001b[0msong\u001b[0m \u001b[0;32min\u001b[0m \u001b[0mresult\u001b[0m\u001b[0;34m[\u001b[0m\u001b[0;34m'recording-list'\u001b[0m\u001b[0;34m]\u001b[0m\u001b[0;34m:\u001b[0m\u001b[0;34m\u001b[0m\u001b[0m\n\u001b[1;32m     10\u001b[0m         \u001b[0martist_info\u001b[0m \u001b[0;34m=\u001b[0m \u001b[0msong\u001b[0m\u001b[0;34m[\u001b[0m\u001b[0;34m'artist-credit'\u001b[0m\u001b[0;34m]\u001b[0m\u001b[0;34m\u001b[0m\u001b[0m\n",
      "\u001b[0;32m/usr/local/lib/python3.5/dist-packages/musicbrainzngs/musicbrainz.py\u001b[0m in \u001b[0;36msearch_recordings\u001b[0;34m(query, limit, offset, strict, **fields)\u001b[0m\n\u001b[1;32m    956\u001b[0m \u001b[0;34m\u001b[0m\u001b[0m\n\u001b[1;32m    957\u001b[0m     *Available search fields*: {fields}\"\"\"\n\u001b[0;32m--> 958\u001b[0;31m     \u001b[0;32mreturn\u001b[0m \u001b[0m_do_mb_search\u001b[0m\u001b[0;34m(\u001b[0m\u001b[0;34m'recording'\u001b[0m\u001b[0;34m,\u001b[0m \u001b[0mquery\u001b[0m\u001b[0;34m,\u001b[0m \u001b[0mfields\u001b[0m\u001b[0;34m,\u001b[0m \u001b[0mlimit\u001b[0m\u001b[0;34m,\u001b[0m \u001b[0moffset\u001b[0m\u001b[0;34m,\u001b[0m \u001b[0mstrict\u001b[0m\u001b[0;34m)\u001b[0m\u001b[0;34m\u001b[0m\u001b[0m\n\u001b[0m\u001b[1;32m    959\u001b[0m \u001b[0;34m\u001b[0m\u001b[0m\n\u001b[1;32m    960\u001b[0m \u001b[0;34m@\u001b[0m\u001b[0m_docstring_search\u001b[0m\u001b[0;34m(\u001b[0m\u001b[0;34m\"release\"\u001b[0m\u001b[0;34m)\u001b[0m\u001b[0;34m\u001b[0m\u001b[0m\n",
      "\u001b[0;32m/usr/local/lib/python3.5/dist-packages/musicbrainzngs/musicbrainz.py\u001b[0m in \u001b[0;36m_do_mb_search\u001b[0;34m(entity, query, fields, limit, offset, strict)\u001b[0m\n\u001b[1;32m    767\u001b[0m                 \u001b[0mparams\u001b[0m\u001b[0;34m[\u001b[0m\u001b[0;34m'offset'\u001b[0m\u001b[0;34m]\u001b[0m \u001b[0;34m=\u001b[0m \u001b[0mstr\u001b[0m\u001b[0;34m(\u001b[0m\u001b[0moffset\u001b[0m\u001b[0;34m)\u001b[0m\u001b[0;34m\u001b[0m\u001b[0m\n\u001b[1;32m    768\u001b[0m \u001b[0;34m\u001b[0m\u001b[0m\n\u001b[0;32m--> 769\u001b[0;31m         \u001b[0;32mreturn\u001b[0m \u001b[0m_do_mb_query\u001b[0m\u001b[0;34m(\u001b[0m\u001b[0mentity\u001b[0m\u001b[0;34m,\u001b[0m \u001b[0;34m''\u001b[0m\u001b[0;34m,\u001b[0m \u001b[0;34m[\u001b[0m\u001b[0;34m]\u001b[0m\u001b[0;34m,\u001b[0m \u001b[0mparams\u001b[0m\u001b[0;34m)\u001b[0m\u001b[0;34m\u001b[0m\u001b[0m\n\u001b[0m\u001b[1;32m    770\u001b[0m \u001b[0;34m\u001b[0m\u001b[0m\n\u001b[1;32m    771\u001b[0m \u001b[0;32mdef\u001b[0m \u001b[0m_do_mb_delete\u001b[0m\u001b[0;34m(\u001b[0m\u001b[0mpath\u001b[0m\u001b[0;34m)\u001b[0m\u001b[0;34m:\u001b[0m\u001b[0;34m\u001b[0m\u001b[0m\n",
      "\u001b[0;32m/usr/local/lib/python3.5/dist-packages/musicbrainzngs/musicbrainz.py\u001b[0m in \u001b[0;36m_do_mb_query\u001b[0;34m(entity, id, includes, params)\u001b[0m\n\u001b[1;32m    709\u001b[0m         \u001b[0;31m# Build the endpoint components.\u001b[0m\u001b[0;34m\u001b[0m\u001b[0;34m\u001b[0m\u001b[0m\n\u001b[1;32m    710\u001b[0m         \u001b[0mpath\u001b[0m \u001b[0;34m=\u001b[0m \u001b[0;34m'%s/%s'\u001b[0m \u001b[0;34m%\u001b[0m \u001b[0;34m(\u001b[0m\u001b[0mentity\u001b[0m\u001b[0;34m,\u001b[0m \u001b[0mid\u001b[0m\u001b[0;34m)\u001b[0m\u001b[0;34m\u001b[0m\u001b[0m\n\u001b[0;32m--> 711\u001b[0;31m         \u001b[0;32mreturn\u001b[0m \u001b[0m_mb_request\u001b[0m\u001b[0;34m(\u001b[0m\u001b[0mpath\u001b[0m\u001b[0;34m,\u001b[0m \u001b[0;34m'GET'\u001b[0m\u001b[0;34m,\u001b[0m \u001b[0mauth_required\u001b[0m\u001b[0;34m,\u001b[0m \u001b[0margs\u001b[0m\u001b[0;34m=\u001b[0m\u001b[0margs\u001b[0m\u001b[0;34m)\u001b[0m\u001b[0;34m\u001b[0m\u001b[0m\n\u001b[0m\u001b[1;32m    712\u001b[0m \u001b[0;34m\u001b[0m\u001b[0m\n\u001b[1;32m    713\u001b[0m def _do_mb_search(entity, query='', fields={},\n",
      "\u001b[0;32m/usr/local/lib/python3.5/dist-packages/musicbrainzngs/musicbrainz.py\u001b[0m in \u001b[0;36m__call__\u001b[0;34m(self, *args, **kwargs)\u001b[0m\n\u001b[1;32m    398\u001b[0m                 \u001b[0;31m# Call the original function, \"paying\" for this call.\u001b[0m\u001b[0;34m\u001b[0m\u001b[0;34m\u001b[0m\u001b[0m\n\u001b[1;32m    399\u001b[0m                 \u001b[0mself\u001b[0m\u001b[0;34m.\u001b[0m\u001b[0mremaining_requests\u001b[0m \u001b[0;34m-=\u001b[0m \u001b[0;36m1.0\u001b[0m\u001b[0;34m\u001b[0m\u001b[0m\n\u001b[0;32m--> 400\u001b[0;31m             \u001b[0;32mreturn\u001b[0m \u001b[0mself\u001b[0m\u001b[0;34m.\u001b[0m\u001b[0mfun\u001b[0m\u001b[0;34m(\u001b[0m\u001b[0;34m*\u001b[0m\u001b[0margs\u001b[0m\u001b[0;34m,\u001b[0m \u001b[0;34m**\u001b[0m\u001b[0mkwargs\u001b[0m\u001b[0;34m)\u001b[0m\u001b[0;34m\u001b[0m\u001b[0m\n\u001b[0m\u001b[1;32m    401\u001b[0m \u001b[0;34m\u001b[0m\u001b[0m\n\u001b[1;32m    402\u001b[0m \u001b[0;31m# From pymb2\u001b[0m\u001b[0;34m\u001b[0m\u001b[0;34m\u001b[0m\u001b[0m\n",
      "\u001b[0;32m/usr/local/lib/python3.5/dist-packages/musicbrainzngs/musicbrainz.py\u001b[0m in \u001b[0;36m_mb_request\u001b[0;34m(path, method, auth_required, client_required, args, data, body)\u001b[0m\n\u001b[1;32m    671\u001b[0m         \u001b[0;31m# will be sent (avoids HTTP 411 error).\u001b[0m\u001b[0;34m\u001b[0m\u001b[0;34m\u001b[0m\u001b[0m\n\u001b[1;32m    672\u001b[0m         \u001b[0mreq\u001b[0m\u001b[0;34m.\u001b[0m\u001b[0madd_header\u001b[0m\u001b[0;34m(\u001b[0m\u001b[0;34m'Content-Length'\u001b[0m\u001b[0;34m,\u001b[0m \u001b[0;34m'0'\u001b[0m\u001b[0;34m)\u001b[0m\u001b[0;34m\u001b[0m\u001b[0m\n\u001b[0;32m--> 673\u001b[0;31m     \u001b[0mresp\u001b[0m \u001b[0;34m=\u001b[0m \u001b[0m_safe_read\u001b[0m\u001b[0;34m(\u001b[0m\u001b[0mopener\u001b[0m\u001b[0;34m,\u001b[0m \u001b[0mreq\u001b[0m\u001b[0;34m,\u001b[0m \u001b[0mbody\u001b[0m\u001b[0;34m)\u001b[0m\u001b[0;34m\u001b[0m\u001b[0m\n\u001b[0m\u001b[1;32m    674\u001b[0m \u001b[0;34m\u001b[0m\u001b[0m\n\u001b[1;32m    675\u001b[0m     \u001b[0;32mreturn\u001b[0m \u001b[0mparser_fun\u001b[0m\u001b[0;34m(\u001b[0m\u001b[0mresp\u001b[0m\u001b[0;34m)\u001b[0m\u001b[0;34m\u001b[0m\u001b[0m\n",
      "\u001b[0;32m/usr/local/lib/python3.5/dist-packages/musicbrainzngs/musicbrainz.py\u001b[0m in \u001b[0;36m_safe_read\u001b[0;34m(opener, req, body, max_retries, retry_delay_delta)\u001b[0m\n\u001b[1;32m    472\u001b[0m                 \u001b[0;32mif\u001b[0m \u001b[0mretry_num\u001b[0m\u001b[0;34m:\u001b[0m \u001b[0;31m# Not the first try: delay an increasing amount.\u001b[0m\u001b[0;34m\u001b[0m\u001b[0m\n\u001b[1;32m    473\u001b[0m                         \u001b[0m_log\u001b[0m\u001b[0;34m.\u001b[0m\u001b[0minfo\u001b[0m\u001b[0;34m(\u001b[0m\u001b[0;34m\"retrying after delay (#%i)\"\u001b[0m \u001b[0;34m%\u001b[0m \u001b[0mretry_num\u001b[0m\u001b[0;34m)\u001b[0m\u001b[0;34m\u001b[0m\u001b[0m\n\u001b[0;32m--> 474\u001b[0;31m                         \u001b[0mtime\u001b[0m\u001b[0;34m.\u001b[0m\u001b[0msleep\u001b[0m\u001b[0;34m(\u001b[0m\u001b[0mretry_num\u001b[0m \u001b[0;34m*\u001b[0m \u001b[0mretry_delay_delta\u001b[0m\u001b[0;34m)\u001b[0m\u001b[0;34m\u001b[0m\u001b[0m\n\u001b[0m\u001b[1;32m    475\u001b[0m \u001b[0;34m\u001b[0m\u001b[0m\n\u001b[1;32m    476\u001b[0m                 \u001b[0;32mtry\u001b[0m\u001b[0;34m:\u001b[0m\u001b[0;34m\u001b[0m\u001b[0m\n",
      "\u001b[0;31mKeyboardInterrupt\u001b[0m: "
     ]
    }
   ],
   "source": [
    "for x in tqdm(np.arange(0, 10000)):\n",
    "    if (train.year[x] == '0.0' or train.year[x] == 'NaN'):\n",
    "#         print(\"testing\")\n",
    "        release = get_year(remove_dumb(train.title[x]), remove_dumb(train.artist_name[x]))\n",
    "        if(len(release) > 0):\n",
    "            print(min(release))\n",
    "            train.year[x] = min(release)\n",
    "\n",
    "# index = 120\n",
    "# print(train.year[index])\n",
    "# if(train.year[index] == 0):\n",
    "#     print(train.title[index])\n",
    "#     print(train.title[index].split('(')[1].split(')')[0])\n",
    "#     release = get_year(train.title[index].split('(')[1].split(')')[0], train.artist_name[index])\n",
    "#     if(len(release) > 0):\n",
    "#         print(release)\n",
    "#         train.year[index] = min(release)"
   ]
  },
  {
   "cell_type": "code",
   "execution_count": null,
   "metadata": {},
   "outputs": [],
   "source": [
    "train.to_csv('MusicDBMBDC_RerunMB.csv')"
   ]
  },
  {
   "cell_type": "code",
   "execution_count": null,
   "metadata": {},
   "outputs": [],
   "source": []
  },
  {
   "cell_type": "code",
   "execution_count": null,
   "metadata": {},
   "outputs": [],
   "source": []
  }
 ],
 "metadata": {
  "kernelspec": {
   "display_name": "Python 3",
   "language": "python",
   "name": "python3"
  },
  "language_info": {
   "codemirror_mode": {
    "name": "ipython",
    "version": 3
   },
   "file_extension": ".py",
   "mimetype": "text/x-python",
   "name": "python",
   "nbconvert_exporter": "python",
   "pygments_lexer": "ipython3",
   "version": "3.6.7"
  }
 },
 "nbformat": 4,
 "nbformat_minor": 2
}
