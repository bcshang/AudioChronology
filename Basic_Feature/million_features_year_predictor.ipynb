{
 "cells": [
  {
   "cell_type": "code",
   "execution_count": 2,
   "metadata": {},
   "outputs": [],
   "source": [
    "import numpy as np\n",
    "import pandas as pd\n",
    "import xgboost as xgb\n",
    "from sklearn.model_selection import GridSearchCV\n",
    "from sklearn.model_selection import train_test_split\n",
    "\n",
    "from sklearn.metrics import accuracy_score\n",
    "\n",
    "from tqdm import tqdm"
   ]
  },
  {
   "cell_type": "code",
   "execution_count": 3,
   "metadata": {},
   "outputs": [],
   "source": [
    "columns_drop = ['artist_id', 'artist_mbid',\n",
    "       'artist_playmeid', 'artist_7digitalid',\n",
    "       'release_7digitalid', 'song_id', 'title',\n",
    "       'track_7digitalid', 'similar_artists', 'artist_terms',\n",
    "       'artist_terms_freq', 'artist_terms_weight', 'analysis_sample_rate',\n",
    "       'audio_md5', 'segments_start',\n",
    "       'segments_confidence', 'segments_pitches', 'segments_timbre',\n",
    "       'segments_loudness_max', 'segments_loudness_max_time',\n",
    "       'segments_loudness_start', 'sections_start', 'sections_confidence',\n",
    "       'beats_start', 'beats_confidence', 'bars_start', 'bars_confidence',\n",
    "       'tatums_start', 'tatums_confidence', 'artist_mbtags',\n",
    "       'artist_mbtags_count', 'analysis_url',\n",
    "        'id', 'track_href', 'type', 'uri']\n",
    "\n",
    "columns_desired = ['artist_familiarity', 'artist_hotttnesss', 'artist_playmeid', 'artist_7digitalid', 'artist_latitude',\n",
    "       'artist_longitude', 'artist_location', 'artist_name', 'release', 'song_hotttnesss',\n",
    "     'danceability', 'duration', 'end_of_fade_in', 'energy',\n",
    "       'key', 'key_confidence', 'loudness', 'mode', 'mode_confidence',\n",
    "       'start_of_fade_out', 'tempo', 'time_signature',\n",
    "       'time_signature_confidence', 'year', 'acousticness', \n",
    "       'danceability.1', 'duration_ms', 'energy.1', 'instrumentalness',\n",
    "       'key.1', 'liveness', 'loudness.1', 'mode.1', 'speechiness', 'tempo.1',\n",
    "       'time_signature.1', 'valence']\n",
    "\n",
    "numeric_columns = ['artist_familiarity', 'artist_hotttnesss', 'artist_playmeid', 'artist_7digitalid','artist_latitude', 'artist_longitude', \n",
    "        'song_hotttnesss', 'danceability', 'duration', 'end_of_fade_in', 'energy', 'key', 'key_confidence', \n",
    "        'loudness', 'mode', 'mode_confidence',\n",
    "        'start_of_fade_out', 'tempo', 'time_signature',\n",
    "        'time_signature_confidence', 'year', 'acousticness', \n",
    "        'danceability.1', 'duration_ms', 'energy.1', 'instrumentalness',\n",
    "        'key.1', 'liveness', 'loudness.1', 'mode.1', 'speechiness', 'tempo.1',\n",
    "        'time_signature.1', 'valence']"
   ]
  },
  {
   "cell_type": "code",
   "execution_count": 4,
   "metadata": {},
   "outputs": [
    {
     "data": {
      "text/plain": [
       "Index(['acousticness', 'analysis_sample_rate', 'artist_7digitalid',\n",
       "       'artist_familiarity', 'artist_hotttnesss', 'artist_latitude',\n",
       "       'artist_longitude', 'artist_playmeid', 'blues', 'classical', 'country',\n",
       "       'danceability', 'danceability.1', 'duration', 'duration_ms',\n",
       "       'electronic', 'end_of_fade_in', 'energy', 'energy.1', 'folk',\n",
       "       'instrumentalness', 'jazz', 'key', 'key.1', 'key_confidence', 'latin',\n",
       "       'liveness', 'loudness', 'loudness.1', 'mode', 'mode.1',\n",
       "       'mode_confidence', 'pop', 'rap', 'rock', 'song_hotttnesss',\n",
       "       'speechiness', 'start_of_fade_out', 'tempo', 'tempo.1',\n",
       "       'time_signature', 'time_signature.1', 'time_signature_confidence',\n",
       "       'valence', 'year'],\n",
       "      dtype='object')"
      ]
     },
     "execution_count": 4,
     "metadata": {},
     "output_type": "execute_result"
    }
   ],
   "source": [
    "million_csv = pd.read_csv(\"FeatureEngineered_genre.csv\")\n",
    "million_data = million_csv\n",
    "million_data.columns\n"
   ]
  },
  {
   "cell_type": "code",
   "execution_count": 5,
   "metadata": {},
   "outputs": [],
   "source": [
    "random_state = 100\n",
    "np.random.seed(random_state)\n",
    "train, test = train_test_split(million_data, test_size=.2, random_state = random_state)"
   ]
  },
  {
   "cell_type": "code",
   "execution_count": 6,
   "metadata": {},
   "outputs": [],
   "source": [
    "y_train = train.iloc[:,train.columns == 'year']\n",
    "X_train = train.loc[:, train.columns != 'year']\n",
    "y_test = test.iloc[:,train.columns == 'year']\n",
    "X_test = test.loc[:, test.columns != 'year']\n",
    "# y_train = y_train.astype('int32')\n",
    "# y_test = y_test.astype('int32')\n",
    "# print(y_train.min(axis=0))\n",
    "# print(y_test.min(axis=0))\n",
    "\n",
    "# print(y_train.max(axis=0))\n",
    "# print(y_test.max(axis=0))"
   ]
  },
  {
   "cell_type": "code",
   "execution_count": 14,
   "metadata": {},
   "outputs": [],
   "source": [
    "learning_range = [.01]\n",
    "alpha_range = np.arange(.1, .9, .1)\n",
    "lamda_range = np.arange(.1, .5, .1)\n",
    "estimators_range = [25, 50]\n",
    "max_depth_range = [20, 30]\n",
    "\n",
    "params = dict(reg_alpha = alpha_range,\n",
    "    reg_lambda = lamda_range,\n",
    "    max_depth = max_depth_range,\n",
    "    learning_rate = learning_range,\n",
    "    n_estimators = estimators_range,\n",
    ")"
   ]
  },
  {
   "cell_type": "code",
   "execution_count": 15,
   "metadata": {},
   "outputs": [
    {
     "name": "stdout",
     "output_type": "stream",
     "text": [
      "Fitting 5 folds for each of 128 candidates, totalling 640 fits\n"
     ]
    },
    {
     "name": "stderr",
     "output_type": "stream",
     "text": [
      "/home/brandon/python3_environments/ds19_project/lib/python3.6/site-packages/sklearn/model_selection/_split.py:652: Warning: The least populated class in y has only 1 members, which is too few. The minimum number of members in any class cannot be less than n_splits=5.\n",
      "  % (min_groups, self.n_splits)), Warning)\n",
      "[Parallel(n_jobs=6)]: Using backend LokyBackend with 6 concurrent workers.\n",
      "[Parallel(n_jobs=6)]: Done  38 tasks      | elapsed:   56.8s\n",
      "[Parallel(n_jobs=6)]: Done 188 tasks      | elapsed:  4.9min\n",
      "[Parallel(n_jobs=6)]: Done 438 tasks      | elapsed: 13.2min\n",
      "[Parallel(n_jobs=6)]: Done 640 out of 640 | elapsed: 21.7min finished\n",
      "/home/brandon/python3_environments/ds19_project/lib/python3.6/site-packages/sklearn/preprocessing/label.py:219: DataConversionWarning: A column-vector y was passed when a 1d array was expected. Please change the shape of y to (n_samples, ), for example using ravel().\n",
      "  y = column_or_1d(y, warn=True)\n",
      "/home/brandon/python3_environments/ds19_project/lib/python3.6/site-packages/sklearn/preprocessing/label.py:252: DataConversionWarning: A column-vector y was passed when a 1d array was expected. Please change the shape of y to (n_samples, ), for example using ravel().\n",
      "  y = column_or_1d(y, warn=True)\n"
     ]
    }
   ],
   "source": [
    "model = xgb.XGBClassifier(random_state = random_state)\n",
    "grid_search = GridSearchCV(model, params, cv=5, verbose=1, n_jobs = 6)\n",
    "grid_search.fit(X_train, y_train)\n",
    "output = grid_search.predict(X_test)\n",
    "\n",
    "# model.fit(X_train, y_train)\n",
    "# model.predict(X_test)"
   ]
  },
  {
   "cell_type": "code",
   "execution_count": 7,
   "metadata": {},
   "outputs": [
    {
     "name": "stderr",
     "output_type": "stream",
     "text": [
      "/home/brandon/python3_environments/ds19_project/lib/python3.6/site-packages/sklearn/preprocessing/label.py:219: DataConversionWarning: A column-vector y was passed when a 1d array was expected. Please change the shape of y to (n_samples, ), for example using ravel().\n",
      "  y = column_or_1d(y, warn=True)\n",
      "/home/brandon/python3_environments/ds19_project/lib/python3.6/site-packages/sklearn/preprocessing/label.py:252: DataConversionWarning: A column-vector y was passed when a 1d array was expected. Please change the shape of y to (n_samples, ), for example using ravel().\n",
      "  y = column_or_1d(y, warn=True)\n"
     ]
    }
   ],
   "source": [
    "model = xgb.XGBClassifier(reg_alpha = .8, reg_lambda = .4, learning_rate = .01, max_depth=20, n_estimators=50, random_state = random_state)\n",
    "model.fit(X_train, y_train)\n",
    "output = model.predict(X_test)"
   ]
  },
  {
   "cell_type": "code",
   "execution_count": 8,
   "metadata": {},
   "outputs": [
    {
     "ename": "NameError",
     "evalue": "name 'grid_search' is not defined",
     "output_type": "error",
     "traceback": [
      "\u001b[0;31m---------------------------------------------------------------------------\u001b[0m",
      "\u001b[0;31mNameError\u001b[0m                                 Traceback (most recent call last)",
      "\u001b[0;32m<ipython-input-8-49990282b4ac>\u001b[0m in \u001b[0;36m<module>\u001b[0;34m\u001b[0m\n\u001b[0;32m----> 1\u001b[0;31m \u001b[0mprint\u001b[0m\u001b[0;34m(\u001b[0m\u001b[0mgrid_search\u001b[0m\u001b[0;34m.\u001b[0m\u001b[0mbest_params_\u001b[0m\u001b[0;34m)\u001b[0m\u001b[0;34m\u001b[0m\u001b[0;34m\u001b[0m\u001b[0m\n\u001b[0m\u001b[1;32m      2\u001b[0m \u001b[0mprint\u001b[0m\u001b[0;34m(\u001b[0m\u001b[0moutput\u001b[0m\u001b[0;34m)\u001b[0m\u001b[0;34m\u001b[0m\u001b[0;34m\u001b[0m\u001b[0m\n",
      "\u001b[0;31mNameError\u001b[0m: name 'grid_search' is not defined"
     ]
    }
   ],
   "source": [
    "print(grid_search.best_params_)\n",
    "print(output)"
   ]
  },
  {
   "cell_type": "code",
   "execution_count": 29,
   "metadata": {},
   "outputs": [],
   "source": [
    "# from numpy.random import choice\n",
    "# np.random.seed(42)\n",
    "# cho = choice([0,1,2], len(output), p=[.5, .25, .25])\n",
    "# for i in range(0, len(output)):\n",
    "#     if(cho[i] == 1):\n",
    "#         output[i] += 10\n",
    "#     elif(cho[i] == 2):\n",
    "#         output[i] -= 10\n",
    "#     else:\n",
    "#         continue\n",
    "    "
   ]
  },
  {
   "cell_type": "raw",
   "metadata": {},
   "source": [
    "{'learning_rate': 0.01, 'max_depth': 20, 'n_estimators': 50, 'reg_alpha': 0.8, 'reg_lambda': 0.4}\n",
    "classifier"
   ]
  },
  {
   "cell_type": "code",
   "execution_count": 8,
   "metadata": {},
   "outputs": [
    {
     "data": {
      "text/plain": [
       "0.4963707426018984"
      ]
     },
     "execution_count": 8,
     "metadata": {},
     "output_type": "execute_result"
    }
   ],
   "source": [
    "accuracy_score(y_test, output)"
   ]
  },
  {
   "cell_type": "code",
   "execution_count": 9,
   "metadata": {
    "scrolled": true
   },
   "outputs": [
    {
     "name": "stdout",
     "output_type": "stream",
     "text": [
      "       0         1         2         3         4         5         6     \\\n",
      "0      1960      1990      1990      2000      2000      2000      2000   \n",
      "1  [1950.0]  [2010.0]  [1990.0]  [2000.0]  [2000.0]  [2000.0]  [2000.0]   \n",
      "\n",
      "       7         8         9     ...      1781      1782      1783      1784  \\\n",
      "0      1990      2000      2000  ...      2000      2000      2000      2000   \n",
      "1  [2000.0]  [2000.0]  [2010.0]  ...  [1990.0]  [1990.0]  [2000.0]  [1990.0]   \n",
      "\n",
      "       1785      1786      1787      1788      1789      1790  \n",
      "0      1980      1970      2000      2000      1990      2000  \n",
      "1  [2000.0]  [1970.0]  [1960.0]  [2000.0]  [1990.0]  [2000.0]  \n",
      "\n",
      "[2 rows x 1791 columns]\n"
     ]
    }
   ],
   "source": [
    "print(pd.DataFrame([output, y_test.values]))"
   ]
  },
  {
   "cell_type": "code",
   "execution_count": null,
   "metadata": {},
   "outputs": [],
   "source": []
  },
  {
   "cell_type": "code",
   "execution_count": null,
   "metadata": {},
   "outputs": [],
   "source": []
  }
 ],
 "metadata": {
  "kernelspec": {
   "display_name": "ds19_project",
   "language": "python",
   "name": "ds19_project"
  },
  "language_info": {
   "codemirror_mode": {
    "name": "ipython",
    "version": 3
   },
   "file_extension": ".py",
   "mimetype": "text/x-python",
   "name": "python",
   "nbconvert_exporter": "python",
   "pygments_lexer": "ipython3",
   "version": "3.6.7"
  }
 },
 "nbformat": 4,
 "nbformat_minor": 2
}
