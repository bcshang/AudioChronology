{
 "cells": [
  {
   "cell_type": "code",
   "execution_count": 1,
   "metadata": {},
   "outputs": [],
   "source": [
    "import pandas as pd\n",
    "import numpy as np\n",
    "import matplotlib.pyplot as plt\n",
    "import seaborn as sns\n",
    "import random\n",
    "random.seed(42)"
   ]
  },
  {
   "cell_type": "code",
   "execution_count": 2,
   "metadata": {},
   "outputs": [
    {
     "name": "stderr",
     "output_type": "stream",
     "text": [
      "Using TensorFlow backend.\n"
     ]
    }
   ],
   "source": [
    "from keras.models import Sequential\n",
    "from keras.layers import Dense\n",
    "from keras.wrappers.scikit_learn import KerasClassifier\n",
    "from keras.utils import np_utils\n",
    "from sklearn.model_selection import cross_val_score\n",
    "from sklearn.model_selection import KFold\n",
    "from sklearn.preprocessing import LabelEncoder\n",
    "from sklearn.pipeline import Pipeline"
   ]
  },
  {
   "cell_type": "code",
   "execution_count": 3,
   "metadata": {},
   "outputs": [],
   "source": [
    "np.random.seed(42)"
   ]
  },
  {
   "cell_type": "code",
   "execution_count": 9,
   "metadata": {},
   "outputs": [
    {
     "data": {
      "text/html": [
       "<div>\n",
       "<style scoped>\n",
       "    .dataframe tbody tr th:only-of-type {\n",
       "        vertical-align: middle;\n",
       "    }\n",
       "\n",
       "    .dataframe tbody tr th {\n",
       "        vertical-align: top;\n",
       "    }\n",
       "\n",
       "    .dataframe thead th {\n",
       "        text-align: right;\n",
       "    }\n",
       "</style>\n",
       "<table border=\"1\" class=\"dataframe\">\n",
       "  <thead>\n",
       "    <tr style=\"text-align: right;\">\n",
       "      <th></th>\n",
       "      <th>file</th>\n",
       "      <th>polarity</th>\n",
       "      <th>subjectivity</th>\n",
       "      <th>word_count</th>\n",
       "      <th>decade</th>\n",
       "      <th>label</th>\n",
       "    </tr>\n",
       "  </thead>\n",
       "  <tbody>\n",
       "    <tr>\n",
       "      <th>0</th>\n",
       "      <td>'57 Chevrolet_Billie Jo Spears_1990</td>\n",
       "      <td>0.303333</td>\n",
       "      <td>0.457000</td>\n",
       "      <td>167</td>\n",
       "      <td>1990</td>\n",
       "      <td>7</td>\n",
       "    </tr>\n",
       "    <tr>\n",
       "      <th>1</th>\n",
       "      <td>(Bloody Paw On The) Kill Floor_Busdriver_2007</td>\n",
       "      <td>-0.022491</td>\n",
       "      <td>0.579749</td>\n",
       "      <td>456</td>\n",
       "      <td>2000</td>\n",
       "      <td>8</td>\n",
       "    </tr>\n",
       "    <tr>\n",
       "      <th>2</th>\n",
       "      <td>(Coffee's For Closers)_Fall Out Boy_2008</td>\n",
       "      <td>-0.144086</td>\n",
       "      <td>0.352151</td>\n",
       "      <td>339</td>\n",
       "      <td>2000</td>\n",
       "      <td>8</td>\n",
       "    </tr>\n",
       "    <tr>\n",
       "      <th>3</th>\n",
       "      <td>(Do)Minion_Eluveitie_2010</td>\n",
       "      <td>0.256667</td>\n",
       "      <td>0.720000</td>\n",
       "      <td>179</td>\n",
       "      <td>2010</td>\n",
       "      <td>9</td>\n",
       "    </tr>\n",
       "    <tr>\n",
       "      <th>4</th>\n",
       "      <td>(eskomolto)_Pagan Wanderer Lu_2015</td>\n",
       "      <td>-0.150185</td>\n",
       "      <td>0.447963</td>\n",
       "      <td>125</td>\n",
       "      <td>2010</td>\n",
       "      <td>9</td>\n",
       "    </tr>\n",
       "  </tbody>\n",
       "</table>\n",
       "</div>"
      ],
      "text/plain": [
       "                                            file  polarity  subjectivity  \\\n",
       "0            '57 Chevrolet_Billie Jo Spears_1990  0.303333      0.457000   \n",
       "1  (Bloody Paw On The) Kill Floor_Busdriver_2007 -0.022491      0.579749   \n",
       "2       (Coffee's For Closers)_Fall Out Boy_2008 -0.144086      0.352151   \n",
       "3                      (Do)Minion_Eluveitie_2010  0.256667      0.720000   \n",
       "4             (eskomolto)_Pagan Wanderer Lu_2015 -0.150185      0.447963   \n",
       "\n",
       "   word_count  decade  label  \n",
       "0         167    1990      7  \n",
       "1         456    2000      8  \n",
       "2         339    2000      8  \n",
       "3         179    2010      9  \n",
       "4         125    2010      9  "
      ]
     },
     "execution_count": 9,
     "metadata": {},
     "output_type": "execute_result"
    }
   ],
   "source": [
    "df = pd.read_csv(\"lyric_data_labeled.csv\")\n",
    "df.head()"
   ]
  },
  {
   "cell_type": "code",
   "execution_count": 10,
   "metadata": {},
   "outputs": [
    {
     "data": {
      "text/html": [
       "<div>\n",
       "<style scoped>\n",
       "    .dataframe tbody tr th:only-of-type {\n",
       "        vertical-align: middle;\n",
       "    }\n",
       "\n",
       "    .dataframe tbody tr th {\n",
       "        vertical-align: top;\n",
       "    }\n",
       "\n",
       "    .dataframe thead th {\n",
       "        text-align: right;\n",
       "    }\n",
       "</style>\n",
       "<table border=\"1\" class=\"dataframe\">\n",
       "  <thead>\n",
       "    <tr style=\"text-align: right;\">\n",
       "      <th></th>\n",
       "      <th>polarity</th>\n",
       "      <th>subjectivity</th>\n",
       "      <th>word_count</th>\n",
       "      <th>decade</th>\n",
       "    </tr>\n",
       "    <tr>\n",
       "      <th>file</th>\n",
       "      <th></th>\n",
       "      <th></th>\n",
       "      <th></th>\n",
       "      <th></th>\n",
       "    </tr>\n",
       "  </thead>\n",
       "  <tbody>\n",
       "    <tr>\n",
       "      <th>'57 Chevrolet_Billie Jo Spears_1990</th>\n",
       "      <td>0.303333</td>\n",
       "      <td>0.457000</td>\n",
       "      <td>167</td>\n",
       "      <td>1990</td>\n",
       "    </tr>\n",
       "    <tr>\n",
       "      <th>(Bloody Paw On The) Kill Floor_Busdriver_2007</th>\n",
       "      <td>-0.022491</td>\n",
       "      <td>0.579749</td>\n",
       "      <td>456</td>\n",
       "      <td>2000</td>\n",
       "    </tr>\n",
       "    <tr>\n",
       "      <th>(Coffee's For Closers)_Fall Out Boy_2008</th>\n",
       "      <td>-0.144086</td>\n",
       "      <td>0.352151</td>\n",
       "      <td>339</td>\n",
       "      <td>2000</td>\n",
       "    </tr>\n",
       "    <tr>\n",
       "      <th>(Do)Minion_Eluveitie_2010</th>\n",
       "      <td>0.256667</td>\n",
       "      <td>0.720000</td>\n",
       "      <td>179</td>\n",
       "      <td>2010</td>\n",
       "    </tr>\n",
       "    <tr>\n",
       "      <th>(eskomolto)_Pagan Wanderer Lu_2015</th>\n",
       "      <td>-0.150185</td>\n",
       "      <td>0.447963</td>\n",
       "      <td>125</td>\n",
       "      <td>2010</td>\n",
       "    </tr>\n",
       "  </tbody>\n",
       "</table>\n",
       "</div>"
      ],
      "text/plain": [
       "                                               polarity  subjectivity  \\\n",
       "file                                                                    \n",
       "'57 Chevrolet_Billie Jo Spears_1990            0.303333      0.457000   \n",
       "(Bloody Paw On The) Kill Floor_Busdriver_2007 -0.022491      0.579749   \n",
       "(Coffee's For Closers)_Fall Out Boy_2008      -0.144086      0.352151   \n",
       "(Do)Minion_Eluveitie_2010                      0.256667      0.720000   \n",
       "(eskomolto)_Pagan Wanderer Lu_2015            -0.150185      0.447963   \n",
       "\n",
       "                                               word_count  decade  \n",
       "file                                                               \n",
       "'57 Chevrolet_Billie Jo Spears_1990                   167    1990  \n",
       "(Bloody Paw On The) Kill Floor_Busdriver_2007         456    2000  \n",
       "(Coffee's For Closers)_Fall Out Boy_2008              339    2000  \n",
       "(Do)Minion_Eluveitie_2010                             179    2010  \n",
       "(eskomolto)_Pagan Wanderer Lu_2015                    125    2010  "
      ]
     },
     "execution_count": 10,
     "metadata": {},
     "output_type": "execute_result"
    }
   ],
   "source": [
    "df_lyricdata = df.drop('label', axis=1)\n",
    "df_lyricdata = df_lyricdata.set_index('file')\n",
    "df_lyricdata.head()"
   ]
  },
  {
   "cell_type": "code",
   "execution_count": 11,
   "metadata": {},
   "outputs": [
    {
     "name": "stdout",
     "output_type": "stream",
     "text": [
      "2000    2023\n",
      "1990    1079\n",
      "1980     440\n",
      "1970     231\n",
      "2010     146\n",
      "1960     127\n",
      "1950      29\n",
      "1920      10\n",
      "1940       7\n",
      "1930       3\n",
      "Name: decade, dtype: int64\n"
     ]
    },
    {
     "data": {
      "image/png": "[encoded data removed]",
      "text/plain": [
       "<Figure size 432x288 with 1 Axes>"
      ]
     },
     "metadata": {
      "needs_background": "light"
     },
     "output_type": "display_data"
    }
   ],
   "source": [
    "print(df_lyricdata['decade'].value_counts())\n",
    "ax = sns.countplot(df_lyricdata['decade'])"
   ]
  },
  {
   "cell_type": "code",
   "execution_count": 14,
   "metadata": {},
   "outputs": [],
   "source": [
    "lyricdata_dataset = df_lyricdata.values\n",
    "X = lyricdata_dataset[:,0:-1].astype(float)\n",
    "Y = lyricdata_dataset[:,-1]"
   ]
  },
  {
   "cell_type": "code",
   "execution_count": 18,
   "metadata": {},
   "outputs": [
    {
     "data": {
      "text/plain": [
       "(4095, 3)"
      ]
     },
     "execution_count": 18,
     "metadata": {},
     "output_type": "execute_result"
    }
   ],
   "source": [
    "X.shape"
   ]
  },
  {
   "cell_type": "code",
   "execution_count": 17,
   "metadata": {},
   "outputs": [],
   "source": [
    "encoder = LabelEncoder()\n",
    "encoder.fit(Y)\n",
    "encoded_Y = encoder.transform(Y)\n",
    "# convert integers to dummy variables (i.e. one hot encoded)\n",
    "dummy_y = np_utils.to_categorical(encoded_Y)"
   ]
  },
  {
   "cell_type": "code",
   "execution_count": 19,
   "metadata": {},
   "outputs": [],
   "source": [
    "# define baseline model\n",
    "def baseline_model():\n",
    "    model = Sequential()\n",
    "    model.add(Dense(6, input_dim=3, activation='relu'))\n",
    "    model.add(Dense(10, activation='softmax'))\n",
    "    model.compile(loss='categorical_crossentropy', optimizer='adam', metrics=['accuracy'])\n",
    "    return model"
   ]
  },
  {
   "cell_type": "code",
   "execution_count": 20,
   "metadata": {},
   "outputs": [],
   "source": [
    "estimator = KerasClassifier(build_fn=baseline_model, epochs=200, batch_size=5, verbose=0)"
   ]
  },
  {
   "cell_type": "code",
   "execution_count": 21,
   "metadata": {},
   "outputs": [],
   "source": [
    "kfold = KFold(n_splits=10, shuffle=True, random_state=42)"
   ]
  },
  {
   "cell_type": "code",
   "execution_count": null,
   "metadata": {},
   "outputs": [],
   "source": [
    "results = cross_val_score(estimator, X, dummy_y, cv=kfold)\n",
    "print(\"Baseline: %.2f%% (%.2f%%)\" % (results.mean()*100, results.std()*100))"
   ]
  },
  {
   "cell_type": "code",
   "execution_count": null,
   "metadata": {},
   "outputs": [],
   "source": []
  }
 ],
 "metadata": {
  "kernelspec": {
   "display_name": "Python 3",
   "language": "python",
   "name": "python3"
  },
  "language_info": {
   "codemirror_mode": {
    "name": "ipython",
    "version": 3
   },
   "file_extension": ".py",
   "mimetype": "text/x-python",
   "name": "python",
   "nbconvert_exporter": "python",
   "pygments_lexer": "ipython3",
   "version": "3.6.7"
  }
 },
 "nbformat": 4,
 "nbformat_minor": 2
}
